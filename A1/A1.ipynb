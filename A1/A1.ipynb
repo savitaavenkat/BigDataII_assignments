{
 "cells": [
  {
   "cell_type": "markdown",
   "metadata": {},
   "source": [
    "# Assignment 1: Web Scraping"
   ]
  },
  {
   "cell_type": "markdown",
   "metadata": {},
   "source": [
    "## Objective"
   ]
  },
  {
   "cell_type": "markdown",
   "metadata": {},
   "source": [
    "Data scientists often need to crawl data from websites and turn the crawled data (HTML pages) to structured data (tables). Thus, web scraping is an essential skill that every data scientist should master. In this assignment, you will learn the followings:\n",
    "\n",
    "\n",
    "* How to use [requests](http://www.python-requests.org/en/master/) to download HTML pages from a website?\n",
    "* How to select content on a webpage with [lxml](http://lxml.de/)? \n",
    "\n",
    "You can either use Spark DataFrame or [pandas.DataFrame](http://pandas.pydata.org/pandas-docs/stable/generated/pandas.DataFrame.html) to do the assignment. In comparison, pandas.DataFrame has richer APIs, but is not good at distributed computing."
   ]
  },
  {
   "cell_type": "markdown",
   "metadata": {},
   "source": [
    "## Preliminary"
   ]
  },
  {
   "cell_type": "markdown",
   "metadata": {},
   "source": [
    "If this is your first time to write a web scraper, you need to learn some basic knowledge of HTML, DOM, and XPath. I found that this is a good resource: [https://data-lessons.github.io](https://data-lessons.github.io/library-webscraping-DEPRECATED/). Please take a look at\n",
    "\n",
    "* [Selecting content on a web page with XPath\n",
    "](https://data-lessons.github.io/library-webscraping-DEPRECATED/xpath/)\n",
    "* [Web scraping using Python: requests and lxml](https://data-lessons.github.io/library-webscraping-DEPRECATED/04-lxml/). \n",
    "\n",
    "Please let me know if you find a better resource. I'll share it with the other students."
   ]
  },
  {
   "cell_type": "markdown",
   "metadata": {},
   "source": [
    "## Overview"
   ]
  },
  {
   "cell_type": "markdown",
   "metadata": {},
   "source": [
    "Imagine you are a data scientist working at SFU. One day, you want to analyze CS faculty data and answer two interesting questions:\n",
    "\n",
    "1. Who are the CS faculty members?\n",
    "2. What are their research interests?\n",
    "\n",
    "To do so, the first thing is to figure out what data to collect."
   ]
  },
  {
   "cell_type": "markdown",
   "metadata": {},
   "source": [
    "## Task 1: SFU CS Faculty Members"
   ]
  },
  {
   "cell_type": "markdown",
   "metadata": {},
   "source": [
    "You find that there is a web page in the CS school website, which lists all the faculty members as well as their basic information. \n",
    "\n",
    "In Task 1, your job is to write a web scraper to extract the faculty information from this page: [https://www.sfu.ca/computing/people/faculty.html](https://www.sfu.ca/computing/people/faculty.html).\n",
    "\n",
    "\n"
   ]
  },
  {
   "cell_type": "markdown",
   "metadata": {},
   "source": [
    "### (a) Crawling Web Page"
   ]
  },
  {
   "cell_type": "markdown",
   "metadata": {},
   "source": [
    "A web page is essentially a file stored in a remote machine (called web server). You can use [requests](http://www.python-requests.org/en/master/) to open such a file and read data from it. Please complete the following code to download the HTML page and save it as a text file (like [this](./faculty.txt)). "
   ]
  },
  {
   "cell_type": "code",
   "execution_count": 11,
   "metadata": {},
   "outputs": [],
   "source": [
    "import requests\n",
    "\n",
    "# 1. Download the webpage\n",
    "url = 'http://www.sfu.ca/computing/people/faculty.html'\n",
    "r = requests.get(url)\n",
    "\n",
    "# 2. Save it as a text file (named faculty.txt)\n",
    "filename = 'faculty.txt'\n",
    "with open(filename, mode='wb') as file:     \n",
    "    file.write(r.content)\n"
   ]
  },
  {
   "cell_type": "markdown",
   "metadata": {},
   "source": [
    "### (b) Extracting Structured Data"
   ]
  },
  {
   "cell_type": "markdown",
   "metadata": {},
   "source": [
    "An HTML page follows the Document Object Model (DOM). It models an HTML page as a tree structure wherein each node is an object representing a part of the page. The nodes can be searched and extracted programmatically using XPath. Please complete the following code to transform the above HTML page to a CSV file (like [this](./faculty_table.csv)). "
   ]
  },
  {
   "cell_type": "code",
   "execution_count": 12,
   "metadata": {},
   "outputs": [],
   "source": [
    "import lxml.html \n",
    "from lxml import html\n",
    "from lxml import etree\n",
    "from io import StringIO, BytesIO\n",
    "import csv\n",
    "import re\n",
    "import pandas as pd\n",
    "\n",
    "# 1. Open faculty.txt\n",
    "with open(filename,'r') as fileread:\n",
    "    html = etree.HTML(fileread.read())\n",
    "    \n",
    "# 2. Parse the HTML page as a tree structure\n",
    "result = etree.tostring(html, pretty_print=True, method=\"html\")\n",
    "#print(result)\n",
    "\n",
    "# 3. Extract related content from the tree using XPath\n",
    "\n",
    "# 3.1 Extract name and rank of each faculty\n",
    "content_name_rank = html.xpath('//*[@id=\"page-content\"]/section/div[2]/div[3]/div[@class]/div[@class]/div/div[2]/h4[1]/text()[1]')\n",
    "content_name_rank = [re.sub('/^[a-zA-Z0-9!@#$&()\\\\-`.+,/\\\"]*$/', '', element) for element in content_name_rank] # To strip out junk characters\n",
    "content_name = []\n",
    "content_rank = []\n",
    "\n",
    "# 3.2 Split 'name' and 'rank' of CS faculty into different lists\n",
    "for element in content_name_rank:\n",
    "    if element != '':\n",
    "        name_rank = element.split(',')\n",
    "        name = name_rank[0].strip(' ')\n",
    "        rank = name_rank[1].strip(' ')\n",
    "        # CS Faculty Name\n",
    "        content_name.append(name)\n",
    "        # CS Faculty Rank\n",
    "        content_rank.append(rank)\n",
    "#print(content_name)\n",
    "#print(content_rank)\n",
    "\n",
    "# 3.3 Extract 'area' of each faculty\n",
    "total_faculty_left_column = html.xpath('count(//*[@id=\"page-content\"]/section/div[2]/div[3]/div[1]/div)') # Total number of @class='textimage section' divs on the left coulmn\n",
    "total_faculty_right_column = html.xpath('count(//*[@id=\"page-content\"]/section/div[2]/div[3]/div[2]/div)') # Total number of @class='textimage section' divs on the right coulmn\n",
    "content_area = []\n",
    "\n",
    "for iter_val in range(int(total_faculty_left_column)): # Consider the faculty list from the left column of the page alone\n",
    "    iter_val += 1\n",
    "    if len(html.xpath('//*[@id=\"page-content\"]/section/div[2]/div[3]/div[1]/div[' + str(iter_val) + ']/div/div[2]//*[contains(text(),\"Area\")]/../text()')) > 0:\n",
    "        content_area += html.xpath('//*[@id=\"page-content\"]/section/div[2]/div[3]/div[1]/div[' + str(iter_val) + ']/div/div[2]//b[contains(text(),\"Area\")]/../text()')\n",
    "    else:\n",
    "        content_area += html.xpath('//*[@id=\"page-content\"]/section/div[2]/div[3]/div[1]/div[' + str(iter_val) + ']/div/div[2]//b/../text()[2]')\n",
    "\n",
    "for iter_val in range(int(total_faculty_right_column)): # Consider the faculty list from the right(second) column of the page alone\n",
    "    iter_val += 1\n",
    "    if len(html.xpath('//*[@id=\"page-content\"]/section/div[2]/div[3]/div[2]/div[' + str(iter_val) + ']/div/div[2]//*[contains(text(),\"Area\")]/../text()')) > 0:\n",
    "        content_area += html.xpath('//*[@id=\"page-content\"]/section/div[2]/div[3]/div[2]/div[' + str(iter_val) + ']/div/div[2]//b[contains(text(),\"Area\")]/../text()')\n",
    "    else:\n",
    "        content_area += html.xpath('//*[@id=\"page-content\"]/section/div[2]/div[3]/div[2]/div[' + str(iter_val) + ']/div/div[2]//b/../text()[2]')\n",
    "\n",
    "content_area = [re.sub('[^a-zA-Z0-9,&;.()\\-\\/ ]+', '', element) for element in content_area] # To strip out junk characters\n",
    "area = []\n",
    "\n",
    "for element in content_area: # To remove empty fields that got retrieved\n",
    "    if element != '':\n",
    "        content = element\n",
    "        content = content.strip(' ')\n",
    "        # CS Faculty Area\n",
    "        area.append(content)\n",
    "#print(area)\n",
    "\n",
    "# 3.4 Extract 'profile' of each faculty\n",
    "content_profile = html.xpath('//*[@id=\"page-content\"]/section/div[2]/div[3]/div[@class]/div[@class]/div/div[2]//*[contains(text(),\"Profile\")]/@href')\n",
    "profile = []\n",
    "\n",
    "for element in content_profile: # Add http://www.sfu.ca as prefix to profile links of faculty that turn out to be incomplete\n",
    "    if str(element).startswith(\"http\"):\n",
    "        profile.append(element)\n",
    "    else:\n",
    "        element = \"http://www.sfu.ca\" + element\n",
    "        profile.append(element)\n",
    "#print(profile)\n",
    "\n",
    "# 3.5 Extract 'homepage' of each faculty\n",
    "homepage = []\n",
    "for iter_val in range(int(total_faculty_left_column)): # Consider the faculty list from the left column of the page alone\n",
    "    iter_val += 1\n",
    "    if len(html.xpath('//*[@id=\"page-content\"]/section/div[2]/div[3]/div[1]/div[' + str(iter_val) + ']/div/div[2]//*[contains(text(),\"Home\")]/@href')) > 0:\n",
    "        content_homepage = html.xpath('//*[@id=\"page-content\"]/section/div[2]/div[3]/div[1]/div[' + str(iter_val) + ']/div/div[2]//*[contains(text(),\"Home\")]/@href')\n",
    "        homepage += content_homepage\n",
    "    else:\n",
    "        homepage.append('')\n",
    "\n",
    "for iter_val in range(int(total_faculty_right_column)): # Consider the faculty list from the right(second) column of the page alone\n",
    "    iter_val += 1\n",
    "    if len(html.xpath('//*[@id=\"page-content\"]/section/div[2]/div[3]/div[2]/div[' + str(iter_val) + ']/div/div[2]//*[contains(text(),\"Home\")]/@href')) > 0:\n",
    "        content_homepage = html.xpath('//*[@id=\"page-content\"]/section/div[2]/div[3]/div[2]/div[' + str(iter_val) + ']/div/div[2]//*[contains(text(),\"Home\")]/@href') \n",
    "        homepage += content_homepage\n",
    "    else:\n",
    "        homepage.append('')\n",
    "#print(homepage)\n",
    "\n",
    "# 3.6 Create list of lists for each faculty\n",
    "list_concat = [list(concat_elementwise) for concat_elementwise in  zip(content_name, content_rank, area, profile, homepage)]\n",
    "#print(list_concat)\n",
    "\n",
    "# 3.7 Convert list of lists to pandas DataFrame\n",
    "df = pd.DataFrame(list_concat, columns = [\"name\", \"rank\", \"area\", \"profile\", \"homepage\"])\n",
    "#print(df)\n",
    "\n",
    "# 4. Save the extracted content as an csv file (named faculty_table.csv)\n",
    "filename = 'faculty_table.csv'\n",
    "df.to_csv(filename, encoding='utf-8', index=False)\n"
   ]
  },
  {
   "cell_type": "markdown",
   "metadata": {},
   "source": [
    "## Task 2: Research Interests"
   ]
  },
  {
   "cell_type": "markdown",
   "metadata": {},
   "source": [
    "Suppose you want to know the research interests of each faculty. However, the above crawled web page does not contain such information. "
   ]
  },
  {
   "cell_type": "markdown",
   "metadata": {},
   "source": [
    "### (a) Crawling Web Page"
   ]
  },
  {
   "cell_type": "markdown",
   "metadata": {},
   "source": [
    "You notice that such information can be found on the profile page of each faculty. For example, you can find the research interests of Dr. Jiannan Wang from [http://www.sfu.ca/computing/people/faculty/jiannanwang.html](http://www.sfu.ca/computing/people/faculty/jiannanwang.html). \n",
    "\n",
    "\n",
    "Please complete the following code to download the profile pages and save them as text files. There are 60 faculties, so you need to download 60 web pages in total. "
   ]
  },
  {
   "cell_type": "code",
   "execution_count": 13,
   "metadata": {},
   "outputs": [],
   "source": [
    "import requests # just in case we run this snippet separately\n",
    "\n",
    "# 1. Download the profile pages of 60 faculties\n",
    "count = 0\n",
    "for item in profile:\n",
    "    r = requests.get(item)\n",
    "    filename = str(content_name[count])+'.txt' # Store 60 faculty files each in the name of the respective faculty member\n",
    "    count += 1\n",
    "    \n",
    "    # 2. Save each page as a text file\n",
    "    with open(filename, mode='wb') as file:\n",
    "        file.write(r.content)\n"
   ]
  },
  {
   "cell_type": "markdown",
   "metadata": {},
   "source": [
    "### (b) Extracting Structured Data"
   ]
  },
  {
   "cell_type": "markdown",
   "metadata": {},
   "source": [
    "Please complete the following code to extract the research interests of each faculty, and generate a file like [this](./faculty_more_table.csv). "
   ]
  },
  {
   "cell_type": "code",
   "execution_count": 14,
   "metadata": {},
   "outputs": [],
   "source": [
    "import lxml.html \n",
    "\n",
    "# 1. Open each text file and parse it as a tree structure \n",
    "count = 0\n",
    "content_research_interest = []\n",
    "temp_res_intrst = []\n",
    "res_interest = []\n",
    "\n",
    "for item in profile:\n",
    "    filename = str(content_name[count])+'.txt'\n",
    "    with open(filename, 'r') as fileread:\n",
    "        html = etree.HTML(fileread.read())\n",
    "        \n",
    "        # 2. Extract the research interests from each tree using XPath\n",
    "        content_research_interest = html.xpath('//*[@id=\"page-content\"]/section[1]//div[*[contains(text(),\"Research\")]]/*[contains(text(),\"Research\")]/../ul//text()[normalize-space()]')\n",
    "        content_research_interest = [re.sub('[^a-zA-Z0-9,&;.:()\\-\\/ ]+', '', element) for element in content_research_interest] # To strip out junk characters\n",
    "        res = []\n",
    "        \n",
    "        if len(content_research_interest) == 0: # To get the research_interests of faculty that are not in the form of a list\n",
    "            temp_res_intrst = html.xpath('//*[@id=\"page-content\"]/section[1]//div[*[contains(text(),\"Research\")]]/*[contains(text(),\"Research\")]/../p//text()[normalize-space()]')\n",
    "            content_research_interest = [re.sub('[^a-zA-Z0-9,&;.:()\\-\\/ ]+', '', element) for element in temp_res_intrst] # To strip out junk characters\n",
    "            \n",
    "        for element in content_research_interest: # To remove empty fields that got retrieved\n",
    "            if element != '':\n",
    "                # CS Faculty Research interest\n",
    "                res.append(element)\n",
    "    count += 1\n",
    "    res_interest.append(res)\n",
    "#print(res_interest)\n",
    "\n",
    "# 3. Add the extracted content to faculty_table.csv\n",
    "list_merged = [list(concat_elementwise) for concat_elementwise in  zip(content_name, content_rank, area, profile, homepage, res_interest)] # Merge faculty_table content with faculty research interest data\n",
    "#print(list_merged)\n",
    "\n",
    "# 3.1 Convert list of lists to pandas DataFrame\n",
    "df_res = pd.DataFrame(list_merged, columns = [\"name\", \"rank\", \"area\", \"profile\", \"homepage\", \"research_interests\"])\n",
    "#print(df_res)\n",
    "\n",
    "# 4. Generate a new CSV file, named faculty_more_table.csv\n",
    "filename = 'faculty_more_table.csv'\n",
    "df_res.to_csv(filename, encoding='utf-8', index=False)\n"
   ]
  },
  {
   "cell_type": "markdown",
   "metadata": {},
   "source": [
    "## Submission"
   ]
  },
  {
   "cell_type": "markdown",
   "metadata": {},
   "source": [
    "Complete the code in this [notebook](A1.ipynb), and submit it to the CourSys activity `Assignment 1`."
   ]
  }
 ],
 "metadata": {
  "kernelspec": {
   "display_name": "Python 3",
   "language": "python",
   "name": "python3"
  },
  "language_info": {
   "codemirror_mode": {
    "name": "ipython",
    "version": 3
   },
   "file_extension": ".py",
   "mimetype": "text/x-python",
   "name": "python",
   "nbconvert_exporter": "python",
   "pygments_lexer": "ipython3",
   "version": "3.7.0"
  }
 },
 "nbformat": 4,
 "nbformat_minor": 1
}
