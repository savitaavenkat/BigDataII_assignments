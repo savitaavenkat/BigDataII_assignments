{
 "cells": [
  {
   "cell_type": "markdown",
   "metadata": {},
   "source": [
    "# Assignment 4: EDA and Bootstrapping"
   ]
  },
  {
   "cell_type": "markdown",
   "metadata": {},
   "source": [
    "## Objective"
   ]
  },
  {
   "cell_type": "markdown",
   "metadata": {},
   "source": [
    "Statistics play a vital role in data science for two reasons. First, it can be used to gain a deep understanding of data. This process is known as **Exploratory Data Analysis (EDA)**. Second, it can be used to infer the relationship between a sample and the population. This process is known as **inference**. In this assignment, you will learn about EDA and statistical inference through the analysis of a very interesting dataset - [property tax report data](http://data.vancouver.ca/datacatalogue/propertyTax.htm). Specifically, you will learn the followings:\n",
    "\n",
    "1. Be able to perform EDA on a single column (i.e., univariate analysis) \n",
    "2. Be able to perform EDA on multiple columns (i.e., multivariate analysis)\n",
    "3. Be able to extract insights from visualizations\n",
    "4. Be able to ask critical questions about data\n",
    "5. Be able to estimate a population parameter based on a sample\n",
    "6. Be able to use the bootstrap to quantify the uncertainty of an estimated value\n",
    "\n",
    "In this assignment, you can use [pandas](https://pandas.pydata.org/) or PySpark to manipulate data, and use [matplotlib](https://matplotlib.org/) or [seaborn](https://seaborn.pydata.org) to make plots. \n",
    "\n",
    "You can download the datasets of each assignment from  http://tiny.cc/cmpt733-datasets."
   ]
  },
  {
   "cell_type": "markdown",
   "metadata": {},
   "source": [
    "## Part 1. EDA"
   ]
  },
  {
   "cell_type": "markdown",
   "metadata": {},
   "source": [
    "Imagine you are a data scientist working at a real-estate company. In this week, your job is to analyze the Vancouver's housing price. You first download a dataset from [property_tax_report_2018.zip](http://tiny.cc/cmpt733-datasets/property_tax_report_2018.zip). The dataset contains information on properties from BC Assessment (BCA) and City sources in 2018.  You can find the schema information of the dataset from this [webpage](http://data.vancouver.ca/datacatalogue/propertyTaxAttributes.htm). But this is not enough. You still know little about the data. That's why you need to do EDA in order to get a better and deeper understanding of the data."
   ]
  },
  {
   "cell_type": "markdown",
   "metadata": {},
   "source": [
    "We first load the data as a DataFrame. To make this analysis more interesting, I added two new columns to the data: `CURRENT_PRICE` represents the property price in 2018; `PREVIOUS_PRICE` represents the property price in 2017. "
   ]
  },
  {
   "cell_type": "code",
   "execution_count": 2,
   "metadata": {},
   "outputs": [
    {
     "name": "stdout",
     "output_type": "stream",
     "text": [
      "read\n"
     ]
    }
   ],
   "source": [
    "import pandas as pd\n",
    "\n",
    "df = pd.read_csv(\"property_tax_report_2018.csv\")\n",
    "\n",
    "df['CURRENT_PRICE'] = df.apply(lambda x: x['CURRENT_LAND_VALUE']+x['CURRENT_IMPROVEMENT_VALUE'], axis = 1)\n",
    "\n",
    "df['PREVIOUS_PRICE'] = df.apply(lambda x: x['PREVIOUS_LAND_VALUE']+x['PREVIOUS_IMPROVEMENT_VALUE'], axis = 1)\n",
    "\n",
    "print('read')"
   ]
  },
  {
   "cell_type": "markdown",
   "metadata": {},
   "source": [
    "Now let's start the EDA process. \n",
    "\n",
    "**Hint.** For some of the following questions, I provided an example plot (see [link](A4-plots.html)). But note that you do not have to use the same plot design. In fact, I didn't do a good job to follow the *Principles of Visualization Design* presented in Lecture 4.  You should think about how to correct the bad designs in my plots."
   ]
  },
  {
   "cell_type": "markdown",
   "metadata": {},
   "source": [
    "### Question 1. Look at some example rows\n",
    "Print the first five rows of the data:"
   ]
  },
  {
   "cell_type": "code",
   "execution_count": 2,
   "metadata": {
    "scrolled": true
   },
   "outputs": [
    {
     "data": {
      "text/html": [
       "<div>\n",
       "<style scoped>\n",
       "    .dataframe tbody tr th:only-of-type {\n",
       "        vertical-align: middle;\n",
       "    }\n",
       "\n",
       "    .dataframe tbody tr th {\n",
       "        vertical-align: top;\n",
       "    }\n",
       "\n",
       "    .dataframe thead th {\n",
       "        text-align: right;\n",
       "    }\n",
       "</style>\n",
       "<table border=\"1\" class=\"dataframe\">\n",
       "  <thead>\n",
       "    <tr style=\"text-align: right;\">\n",
       "      <th></th>\n",
       "      <th>PID</th>\n",
       "      <th>LEGAL_TYPE</th>\n",
       "      <th>FOLIO</th>\n",
       "      <th>LAND_COORDINATE</th>\n",
       "      <th>ZONE_NAME</th>\n",
       "      <th>ZONE_CATEGORY</th>\n",
       "      <th>LOT</th>\n",
       "      <th>BLOCK</th>\n",
       "      <th>PLAN</th>\n",
       "      <th>DISTRICT_LOT</th>\n",
       "      <th>...</th>\n",
       "      <th>CURRENT_IMPROVEMENT_VALUE</th>\n",
       "      <th>TAX_ASSESSMENT_YEAR</th>\n",
       "      <th>PREVIOUS_LAND_VALUE</th>\n",
       "      <th>PREVIOUS_IMPROVEMENT_VALUE</th>\n",
       "      <th>YEAR_BUILT</th>\n",
       "      <th>BIG_IMPROVEMENT_YEAR</th>\n",
       "      <th>TAX_LEVY</th>\n",
       "      <th>NEIGHBOURHOOD_CODE</th>\n",
       "      <th>CURRENT_PRICE</th>\n",
       "      <th>PREVIOUS_PRICE</th>\n",
       "    </tr>\n",
       "  </thead>\n",
       "  <tbody>\n",
       "    <tr>\n",
       "      <th>0</th>\n",
       "      <td>025-734-601</td>\n",
       "      <td>STRATA</td>\n",
       "      <td>7.500400e+11</td>\n",
       "      <td>75004024</td>\n",
       "      <td>C-2</td>\n",
       "      <td>Commercial</td>\n",
       "      <td>25</td>\n",
       "      <td>NaN</td>\n",
       "      <td>BCS498</td>\n",
       "      <td>2027</td>\n",
       "      <td>...</td>\n",
       "      <td>242000</td>\n",
       "      <td>2018</td>\n",
       "      <td>472000.0</td>\n",
       "      <td>238000.0</td>\n",
       "      <td>2003.0</td>\n",
       "      <td>2003.0</td>\n",
       "      <td>NaN</td>\n",
       "      <td>3</td>\n",
       "      <td>834000</td>\n",
       "      <td>710000.0</td>\n",
       "    </tr>\n",
       "    <tr>\n",
       "      <th>1</th>\n",
       "      <td>029-700-868</td>\n",
       "      <td>STRATA</td>\n",
       "      <td>6.381830e+11</td>\n",
       "      <td>63818250</td>\n",
       "      <td>CD-1 (464)</td>\n",
       "      <td>Comprehensive Development</td>\n",
       "      <td>132</td>\n",
       "      <td>NaN</td>\n",
       "      <td>EPS2983</td>\n",
       "      <td>200A</td>\n",
       "      <td>...</td>\n",
       "      <td>327000</td>\n",
       "      <td>2018</td>\n",
       "      <td>603000.0</td>\n",
       "      <td>329000.0</td>\n",
       "      <td>NaN</td>\n",
       "      <td>NaN</td>\n",
       "      <td>NaN</td>\n",
       "      <td>13</td>\n",
       "      <td>1042000</td>\n",
       "      <td>932000.0</td>\n",
       "    </tr>\n",
       "    <tr>\n",
       "      <th>2</th>\n",
       "      <td>029-814-227</td>\n",
       "      <td>STRATA</td>\n",
       "      <td>1.708260e+11</td>\n",
       "      <td>17082596</td>\n",
       "      <td>CD-1 (535)</td>\n",
       "      <td>Comprehensive Development</td>\n",
       "      <td>25</td>\n",
       "      <td>NaN</td>\n",
       "      <td>EPS3173</td>\n",
       "      <td>311</td>\n",
       "      <td>...</td>\n",
       "      <td>273000</td>\n",
       "      <td>2018</td>\n",
       "      <td>416000.0</td>\n",
       "      <td>273000.0</td>\n",
       "      <td>NaN</td>\n",
       "      <td>NaN</td>\n",
       "      <td>NaN</td>\n",
       "      <td>12</td>\n",
       "      <td>780000</td>\n",
       "      <td>689000.0</td>\n",
       "    </tr>\n",
       "    <tr>\n",
       "      <th>3</th>\n",
       "      <td>029-918-731</td>\n",
       "      <td>STRATA</td>\n",
       "      <td>6.401940e+11</td>\n",
       "      <td>64019406</td>\n",
       "      <td>IC-3</td>\n",
       "      <td>Light Industrial</td>\n",
       "      <td>40</td>\n",
       "      <td>26</td>\n",
       "      <td>EPS2425</td>\n",
       "      <td>200A</td>\n",
       "      <td>...</td>\n",
       "      <td>170000</td>\n",
       "      <td>2018</td>\n",
       "      <td>168000.0</td>\n",
       "      <td>170000.0</td>\n",
       "      <td>NaN</td>\n",
       "      <td>NaN</td>\n",
       "      <td>NaN</td>\n",
       "      <td>13</td>\n",
       "      <td>397000</td>\n",
       "      <td>338000.0</td>\n",
       "    </tr>\n",
       "    <tr>\n",
       "      <th>4</th>\n",
       "      <td>017-393-400</td>\n",
       "      <td>STRATA</td>\n",
       "      <td>6.011150e+11</td>\n",
       "      <td>60111496</td>\n",
       "      <td>CD-1 (233)</td>\n",
       "      <td>Comprehensive Development</td>\n",
       "      <td>7</td>\n",
       "      <td>NaN</td>\n",
       "      <td>LMS75</td>\n",
       "      <td>185</td>\n",
       "      <td>...</td>\n",
       "      <td>380000</td>\n",
       "      <td>2018</td>\n",
       "      <td>531000.0</td>\n",
       "      <td>385000.0</td>\n",
       "      <td>1991.0</td>\n",
       "      <td>1991.0</td>\n",
       "      <td>NaN</td>\n",
       "      <td>27</td>\n",
       "      <td>1181000</td>\n",
       "      <td>916000.0</td>\n",
       "    </tr>\n",
       "  </tbody>\n",
       "</table>\n",
       "<p>5 rows × 30 columns</p>\n",
       "</div>"
      ],
      "text/plain": [
       "           PID LEGAL_TYPE         FOLIO  LAND_COORDINATE   ZONE_NAME  \\\n",
       "0  025-734-601     STRATA  7.500400e+11         75004024         C-2   \n",
       "1  029-700-868     STRATA  6.381830e+11         63818250  CD-1 (464)   \n",
       "2  029-814-227     STRATA  1.708260e+11         17082596  CD-1 (535)   \n",
       "3  029-918-731     STRATA  6.401940e+11         64019406        IC-3   \n",
       "4  017-393-400     STRATA  6.011150e+11         60111496  CD-1 (233)   \n",
       "\n",
       "               ZONE_CATEGORY  LOT BLOCK     PLAN DISTRICT_LOT       ...        \\\n",
       "0                 Commercial   25   NaN   BCS498         2027       ...         \n",
       "1  Comprehensive Development  132   NaN  EPS2983         200A       ...         \n",
       "2  Comprehensive Development   25   NaN  EPS3173          311       ...         \n",
       "3           Light Industrial   40    26  EPS2425         200A       ...         \n",
       "4  Comprehensive Development    7   NaN    LMS75          185       ...         \n",
       "\n",
       "  CURRENT_IMPROVEMENT_VALUE  TAX_ASSESSMENT_YEAR PREVIOUS_LAND_VALUE  \\\n",
       "0                    242000                 2018            472000.0   \n",
       "1                    327000                 2018            603000.0   \n",
       "2                    273000                 2018            416000.0   \n",
       "3                    170000                 2018            168000.0   \n",
       "4                    380000                 2018            531000.0   \n",
       "\n",
       "  PREVIOUS_IMPROVEMENT_VALUE YEAR_BUILT BIG_IMPROVEMENT_YEAR TAX_LEVY  \\\n",
       "0                   238000.0     2003.0               2003.0      NaN   \n",
       "1                   329000.0        NaN                  NaN      NaN   \n",
       "2                   273000.0        NaN                  NaN      NaN   \n",
       "3                   170000.0        NaN                  NaN      NaN   \n",
       "4                   385000.0     1991.0               1991.0      NaN   \n",
       "\n",
       "  NEIGHBOURHOOD_CODE CURRENT_PRICE  PREVIOUS_PRICE  \n",
       "0                  3        834000        710000.0  \n",
       "1                 13       1042000        932000.0  \n",
       "2                 12        780000        689000.0  \n",
       "3                 13        397000        338000.0  \n",
       "4                 27       1181000        916000.0  \n",
       "\n",
       "[5 rows x 30 columns]"
      ]
     },
     "execution_count": 2,
     "metadata": {},
     "output_type": "execute_result"
    }
   ],
   "source": [
    "# --- Write your code below ---\n",
    "df.head(5)"
   ]
  },
  {
   "cell_type": "markdown",
   "metadata": {},
   "source": [
    "### Question 2. Get summary statistics"
   ]
  },
  {
   "cell_type": "markdown",
   "metadata": {},
   "source": [
    "From the above output, you will know that the data has 28 columns. Please use the describe() function to get the summary statistics of each column."
   ]
  },
  {
   "cell_type": "code",
   "execution_count": 3,
   "metadata": {},
   "outputs": [
    {
     "data": {
      "text/html": [
       "<div>\n",
       "<style scoped>\n",
       "    .dataframe tbody tr th:only-of-type {\n",
       "        vertical-align: middle;\n",
       "    }\n",
       "\n",
       "    .dataframe tbody tr th {\n",
       "        vertical-align: top;\n",
       "    }\n",
       "\n",
       "    .dataframe thead th {\n",
       "        text-align: right;\n",
       "    }\n",
       "</style>\n",
       "<table border=\"1\" class=\"dataframe\">\n",
       "  <thead>\n",
       "    <tr style=\"text-align: right;\">\n",
       "      <th></th>\n",
       "      <th>FOLIO</th>\n",
       "      <th>LAND_COORDINATE</th>\n",
       "      <th>TO_CIVIC_NUMBER</th>\n",
       "      <th>CURRENT_LAND_VALUE</th>\n",
       "      <th>CURRENT_IMPROVEMENT_VALUE</th>\n",
       "      <th>TAX_ASSESSMENT_YEAR</th>\n",
       "      <th>PREVIOUS_LAND_VALUE</th>\n",
       "      <th>PREVIOUS_IMPROVEMENT_VALUE</th>\n",
       "      <th>YEAR_BUILT</th>\n",
       "      <th>BIG_IMPROVEMENT_YEAR</th>\n",
       "      <th>TAX_LEVY</th>\n",
       "      <th>NEIGHBOURHOOD_CODE</th>\n",
       "      <th>CURRENT_PRICE</th>\n",
       "      <th>PREVIOUS_PRICE</th>\n",
       "    </tr>\n",
       "  </thead>\n",
       "  <tbody>\n",
       "    <tr>\n",
       "      <th>count</th>\n",
       "      <td>2.053460e+05</td>\n",
       "      <td>2.053460e+05</td>\n",
       "      <td>204731.000000</td>\n",
       "      <td>2.053460e+05</td>\n",
       "      <td>2.053460e+05</td>\n",
       "      <td>205346.0</td>\n",
       "      <td>2.030420e+05</td>\n",
       "      <td>2.030420e+05</td>\n",
       "      <td>194899.000000</td>\n",
       "      <td>194905.000000</td>\n",
       "      <td>0.0</td>\n",
       "      <td>205346.000000</td>\n",
       "      <td>2.053460e+05</td>\n",
       "      <td>2.030420e+05</td>\n",
       "    </tr>\n",
       "    <tr>\n",
       "      <th>mean</th>\n",
       "      <td>4.984322e+11</td>\n",
       "      <td>4.984322e+07</td>\n",
       "      <td>2355.494566</td>\n",
       "      <td>1.862369e+06</td>\n",
       "      <td>4.006923e+05</td>\n",
       "      <td>2018.0</td>\n",
       "      <td>1.695359e+06</td>\n",
       "      <td>3.875009e+05</td>\n",
       "      <td>1979.969641</td>\n",
       "      <td>1987.354090</td>\n",
       "      <td>NaN</td>\n",
       "      <td>16.524159</td>\n",
       "      <td>2.263062e+06</td>\n",
       "      <td>2.082860e+06</td>\n",
       "    </tr>\n",
       "    <tr>\n",
       "      <th>std</th>\n",
       "      <td>2.479372e+11</td>\n",
       "      <td>2.479372e+07</td>\n",
       "      <td>1947.760697</td>\n",
       "      <td>1.074259e+07</td>\n",
       "      <td>4.148662e+06</td>\n",
       "      <td>0.0</td>\n",
       "      <td>9.646130e+06</td>\n",
       "      <td>4.236152e+06</td>\n",
       "      <td>29.419729</td>\n",
       "      <td>19.839132</td>\n",
       "      <td>NaN</td>\n",
       "      <td>9.052394</td>\n",
       "      <td>1.258726e+07</td>\n",
       "      <td>1.131819e+07</td>\n",
       "    </tr>\n",
       "    <tr>\n",
       "      <th>min</th>\n",
       "      <td>1.963206e+10</td>\n",
       "      <td>1.963206e+06</td>\n",
       "      <td>1.000000</td>\n",
       "      <td>0.000000e+00</td>\n",
       "      <td>0.000000e+00</td>\n",
       "      <td>2018.0</td>\n",
       "      <td>0.000000e+00</td>\n",
       "      <td>0.000000e+00</td>\n",
       "      <td>1800.000000</td>\n",
       "      <td>200.000000</td>\n",
       "      <td>NaN</td>\n",
       "      <td>1.000000</td>\n",
       "      <td>1.000000e+00</td>\n",
       "      <td>1.000000e+00</td>\n",
       "    </tr>\n",
       "    <tr>\n",
       "      <th>25%</th>\n",
       "      <td>2.107920e+11</td>\n",
       "      <td>2.107919e+07</td>\n",
       "      <td>948.000000</td>\n",
       "      <td>4.680000e+05</td>\n",
       "      <td>9.530000e+04</td>\n",
       "      <td>2018.0</td>\n",
       "      <td>3.840000e+05</td>\n",
       "      <td>9.470000e+04</td>\n",
       "      <td>1965.000000</td>\n",
       "      <td>1975.000000</td>\n",
       "      <td>NaN</td>\n",
       "      <td>9.000000</td>\n",
       "      <td>6.530000e+05</td>\n",
       "      <td>5.670000e+05</td>\n",
       "    </tr>\n",
       "    <tr>\n",
       "      <th>50%</th>\n",
       "      <td>6.122360e+11</td>\n",
       "      <td>6.122363e+07</td>\n",
       "      <td>1777.000000</td>\n",
       "      <td>1.057000e+06</td>\n",
       "      <td>1.830000e+05</td>\n",
       "      <td>2018.0</td>\n",
       "      <td>9.440000e+05</td>\n",
       "      <td>1.810000e+05</td>\n",
       "      <td>1990.000000</td>\n",
       "      <td>1992.000000</td>\n",
       "      <td>NaN</td>\n",
       "      <td>16.000000</td>\n",
       "      <td>1.278000e+06</td>\n",
       "      <td>1.201000e+06</td>\n",
       "    </tr>\n",
       "    <tr>\n",
       "      <th>75%</th>\n",
       "      <td>6.882770e+11</td>\n",
       "      <td>6.882774e+07</td>\n",
       "      <td>3290.000000</td>\n",
       "      <td>1.692000e+06</td>\n",
       "      <td>2.950000e+05</td>\n",
       "      <td>2018.0</td>\n",
       "      <td>1.680000e+06</td>\n",
       "      <td>2.880000e+05</td>\n",
       "      <td>2002.000000</td>\n",
       "      <td>2002.000000</td>\n",
       "      <td>NaN</td>\n",
       "      <td>25.000000</td>\n",
       "      <td>1.984000e+06</td>\n",
       "      <td>1.937000e+06</td>\n",
       "    </tr>\n",
       "    <tr>\n",
       "      <th>max</th>\n",
       "      <td>8.453130e+11</td>\n",
       "      <td>8.453134e+07</td>\n",
       "      <td>9295.000000</td>\n",
       "      <td>3.516727e+09</td>\n",
       "      <td>6.117980e+08</td>\n",
       "      <td>2018.0</td>\n",
       "      <td>3.319471e+09</td>\n",
       "      <td>6.262320e+08</td>\n",
       "      <td>2015.000000</td>\n",
       "      <td>2015.000000</td>\n",
       "      <td>NaN</td>\n",
       "      <td>30.000000</td>\n",
       "      <td>3.516727e+09</td>\n",
       "      <td>3.319471e+09</td>\n",
       "    </tr>\n",
       "  </tbody>\n",
       "</table>\n",
       "</div>"
      ],
      "text/plain": [
       "              FOLIO  LAND_COORDINATE  TO_CIVIC_NUMBER  CURRENT_LAND_VALUE  \\\n",
       "count  2.053460e+05     2.053460e+05    204731.000000        2.053460e+05   \n",
       "mean   4.984322e+11     4.984322e+07      2355.494566        1.862369e+06   \n",
       "std    2.479372e+11     2.479372e+07      1947.760697        1.074259e+07   \n",
       "min    1.963206e+10     1.963206e+06         1.000000        0.000000e+00   \n",
       "25%    2.107920e+11     2.107919e+07       948.000000        4.680000e+05   \n",
       "50%    6.122360e+11     6.122363e+07      1777.000000        1.057000e+06   \n",
       "75%    6.882770e+11     6.882774e+07      3290.000000        1.692000e+06   \n",
       "max    8.453130e+11     8.453134e+07      9295.000000        3.516727e+09   \n",
       "\n",
       "       CURRENT_IMPROVEMENT_VALUE  TAX_ASSESSMENT_YEAR  PREVIOUS_LAND_VALUE  \\\n",
       "count               2.053460e+05             205346.0         2.030420e+05   \n",
       "mean                4.006923e+05               2018.0         1.695359e+06   \n",
       "std                 4.148662e+06                  0.0         9.646130e+06   \n",
       "min                 0.000000e+00               2018.0         0.000000e+00   \n",
       "25%                 9.530000e+04               2018.0         3.840000e+05   \n",
       "50%                 1.830000e+05               2018.0         9.440000e+05   \n",
       "75%                 2.950000e+05               2018.0         1.680000e+06   \n",
       "max                 6.117980e+08               2018.0         3.319471e+09   \n",
       "\n",
       "       PREVIOUS_IMPROVEMENT_VALUE     YEAR_BUILT  BIG_IMPROVEMENT_YEAR  \\\n",
       "count                2.030420e+05  194899.000000         194905.000000   \n",
       "mean                 3.875009e+05    1979.969641           1987.354090   \n",
       "std                  4.236152e+06      29.419729             19.839132   \n",
       "min                  0.000000e+00    1800.000000            200.000000   \n",
       "25%                  9.470000e+04    1965.000000           1975.000000   \n",
       "50%                  1.810000e+05    1990.000000           1992.000000   \n",
       "75%                  2.880000e+05    2002.000000           2002.000000   \n",
       "max                  6.262320e+08    2015.000000           2015.000000   \n",
       "\n",
       "       TAX_LEVY  NEIGHBOURHOOD_CODE  CURRENT_PRICE  PREVIOUS_PRICE  \n",
       "count       0.0       205346.000000   2.053460e+05    2.030420e+05  \n",
       "mean        NaN           16.524159   2.263062e+06    2.082860e+06  \n",
       "std         NaN            9.052394   1.258726e+07    1.131819e+07  \n",
       "min         NaN            1.000000   1.000000e+00    1.000000e+00  \n",
       "25%         NaN            9.000000   6.530000e+05    5.670000e+05  \n",
       "50%         NaN           16.000000   1.278000e+06    1.201000e+06  \n",
       "75%         NaN           25.000000   1.984000e+06    1.937000e+06  \n",
       "max         NaN           30.000000   3.516727e+09    3.319471e+09  "
      ]
     },
     "execution_count": 3,
     "metadata": {},
     "output_type": "execute_result"
    }
   ],
   "source": [
    "# --- Write your code below ---\n",
    "df.describe()"
   ]
  },
  {
   "cell_type": "markdown",
   "metadata": {},
   "source": [
    "Please look at the above output carefully, and make sure that you understand the meanings of each row (e.g., std, 25% percentile)."
   ]
  },
  {
   "cell_type": "markdown",
   "metadata": {},
   "source": [
    "### Question 3. Examine missing values"
   ]
  },
  {
   "cell_type": "markdown",
   "metadata": {},
   "source": [
    "Now we are going to perform EDA on a single column (i.e., univariate analysis). We chose `YEAR_BUILT`, which represents in which year a property was built.  We first check whether the column has any missing value. "
   ]
  },
  {
   "cell_type": "code",
   "execution_count": 4,
   "metadata": {
    "scrolled": true
   },
   "outputs": [
    {
     "name": "stdout",
     "output_type": "stream",
     "text": [
      "Percentage of rows whose 'YEAR_BUILT'values are missing:  5.087510835370546\n"
     ]
    }
   ],
   "source": [
    "# --- Write your code below ---\n",
    "# Print the percentage of the rows whose YEAR_BUILT is missing.\n",
    "import pandas as pd\n",
    "\n",
    "total = df['YEAR_BUILT'].shape[0]\n",
    "# print(total)\n",
    "\n",
    "missing_count = df['YEAR_BUILT'].isnull().sum()\n",
    "# print(missing_count)\n",
    "\n",
    "percentage_missing = (missing_count / total) * 100\n",
    "print(\"Percentage of rows whose 'YEAR_BUILT'values are missing: \", percentage_missing)"
   ]
  },
  {
   "cell_type": "markdown",
   "metadata": {},
   "source": [
    "Missing values are very common in real-world datasets. In practice, you should always be aware of the impact of the missing values on your downstream analysis results."
   ]
  },
  {
   "cell_type": "markdown",
   "metadata": {},
   "source": [
    "### Question 4.  Plot a line chart"
   ]
  },
  {
   "cell_type": "markdown",
   "metadata": {},
   "source": [
    "We now start investigating the values in the `YEAR_BUILT` column.  Suppose we want to know: \"How many properties were built in each year (from 1900 to 2018)?\" Please plot a line chart to answer the question."
   ]
  },
  {
   "cell_type": "code",
   "execution_count": 10,
   "metadata": {
    "scrolled": true
   },
   "outputs": [
    {
     "data": {
      "text/html": [
       "<script type=\"text/javascript\">window.PlotlyConfig = {MathJaxConfig: 'local'};</script><script type=\"text/javascript\">if (window.MathJax) {MathJax.Hub.Config({SVG: {font: \"STIX-Web\"}});}</script><script>requirejs.config({paths: { 'plotly': ['https://cdn.plot.ly/plotly-latest.min']},});if(!window._Plotly) {require(['plotly'],function(plotly) {window._Plotly=plotly;});}</script>"
      ],
      "text/vnd.plotly.v1+html": [
       "<script type=\"text/javascript\">window.PlotlyConfig = {MathJaxConfig: 'local'};</script><script type=\"text/javascript\">if (window.MathJax) {MathJax.Hub.Config({SVG: {font: \"STIX-Web\"}});}</script><script>requirejs.config({paths: { 'plotly': ['https://cdn.plot.ly/plotly-latest.min']},});if(!window._Plotly) {require(['plotly'],function(plotly) {window._Plotly=plotly;});}</script>"
      ]
     },
     "metadata": {},
     "output_type": "display_data"
    },
    {
     "data": {
      "application/vnd.plotly.v1+json": {
       "config": {
        "linkText": "Export to plot.ly",
        "plotlyServerURL": "https://plot.ly",
        "showLink": false
       },
       "data": [
        {
         "line": {
          "color": "turquoise",
          "width": 3
         },
         "marker": {
          "color": "black"
         },
         "mode": "lines+markers",
         "name": "No. of prop",
         "text": "Properties",
         "type": "scatter",
         "uid": "27cb32cf-d7de-4b24-8682-c4cb999f423f",
         "x": [
          1900,
          1901,
          1902,
          1903,
          1904,
          1905,
          1906,
          1907,
          1908,
          1909,
          1910,
          1911,
          1912,
          1913,
          1914,
          1915,
          1916,
          1917,
          1918,
          1919,
          1920,
          1921,
          1922,
          1923,
          1924,
          1925,
          1926,
          1927,
          1928,
          1929,
          1930,
          1931,
          1932,
          1933,
          1934,
          1935,
          1936,
          1937,
          1938,
          1939,
          1940,
          1941,
          1942,
          1943,
          1944,
          1945,
          1946,
          1947,
          1948,
          1949,
          1950,
          1951,
          1952,
          1953,
          1954,
          1955,
          1956,
          1957,
          1958,
          1959,
          1960,
          1961,
          1962,
          1963,
          1964,
          1965,
          1966,
          1967,
          1968,
          1969,
          1970,
          1971,
          1972,
          1973,
          1974,
          1975,
          1976,
          1977,
          1978,
          1979,
          1980,
          1981,
          1982,
          1983,
          1984,
          1985,
          1986,
          1987,
          1988,
          1989,
          1990,
          1991,
          1992,
          1993,
          1994,
          1995,
          1996,
          1997,
          1998,
          1999,
          2000,
          2001,
          2002,
          2003,
          2004,
          2005,
          2006,
          2007,
          2008,
          2009,
          2010,
          2011,
          2012,
          2013,
          2014,
          2015
         ],
         "y": [
          40,
          303,
          15,
          23,
          68,
          472,
          135,
          142,
          421,
          263,
          3070,
          973,
          3854,
          848,
          600,
          247,
          80,
          33,
          211,
          141,
          675,
          307,
          647,
          501,
          820,
          1286,
          1262,
          1448,
          1394,
          1095,
          1149,
          811,
          291,
          117,
          106,
          158,
          270,
          486,
          651,
          613,
          740,
          913,
          565,
          242,
          676,
          693,
          1355,
          1039,
          1457,
          948,
          981,
          917,
          736,
          1038,
          824,
          931,
          1049,
          1201,
          955,
          794,
          560,
          616,
          854,
          782,
          973,
          1080,
          922,
          862,
          749,
          758,
          549,
          1319,
          1425,
          1538,
          2363,
          2232,
          2518,
          1761,
          1726,
          1615,
          2369,
          2702,
          1764,
          2247,
          1533,
          2194,
          2797,
          2354,
          3037,
          4171,
          3477,
          2784,
          3041,
          4315,
          6302,
          5665,
          4112,
          4795,
          4794,
          4877,
          4053,
          1533,
          3727,
          3368,
          3867,
          5027,
          4401,
          4089,
          4457,
          5002,
          2708,
          3469,
          3415,
          3875,
          3237,
          18
         ]
        }
       ],
       "layout": {
        "legend": {
         "bgcolor": "lightgray",
         "bordercolor": "gray",
         "borderwidth": 2
        },
        "showlegend": true,
        "title": {
         "text": "Number of Properties Built per Year(ranging from 1900 to 2018)"
        },
        "xaxis": {
         "title": {
          "text": "Year"
         }
        },
        "yaxis": {
         "title": {
          "text": "Number of Properties"
         }
        }
       }
      },
      "text/html": [
       "<div id=\"9fdc57dd-dbb5-43ae-a2d1-ced342822596\" style=\"height: 525px; width: 100%;\" class=\"plotly-graph-div\"></div><script type=\"text/javascript\">require([\"plotly\"], function(Plotly) { window.PLOTLYENV=window.PLOTLYENV || {};window.PLOTLYENV.BASE_URL=\"https://plot.ly\";Plotly.newPlot(\"9fdc57dd-dbb5-43ae-a2d1-ced342822596\", [{\"line\": {\"color\": \"turquoise\", \"width\": 3}, \"marker\": {\"color\": \"black\"}, \"mode\": \"lines+markers\", \"name\": \"No. of prop\", \"text\": \"Properties\", \"x\": [1900.0, 1901.0, 1902.0, 1903.0, 1904.0, 1905.0, 1906.0, 1907.0, 1908.0, 1909.0, 1910.0, 1911.0, 1912.0, 1913.0, 1914.0, 1915.0, 1916.0, 1917.0, 1918.0, 1919.0, 1920.0, 1921.0, 1922.0, 1923.0, 1924.0, 1925.0, 1926.0, 1927.0, 1928.0, 1929.0, 1930.0, 1931.0, 1932.0, 1933.0, 1934.0, 1935.0, 1936.0, 1937.0, 1938.0, 1939.0, 1940.0, 1941.0, 1942.0, 1943.0, 1944.0, 1945.0, 1946.0, 1947.0, 1948.0, 1949.0, 1950.0, 1951.0, 1952.0, 1953.0, 1954.0, 1955.0, 1956.0, 1957.0, 1958.0, 1959.0, 1960.0, 1961.0, 1962.0, 1963.0, 1964.0, 1965.0, 1966.0, 1967.0, 1968.0, 1969.0, 1970.0, 1971.0, 1972.0, 1973.0, 1974.0, 1975.0, 1976.0, 1977.0, 1978.0, 1979.0, 1980.0, 1981.0, 1982.0, 1983.0, 1984.0, 1985.0, 1986.0, 1987.0, 1988.0, 1989.0, 1990.0, 1991.0, 1992.0, 1993.0, 1994.0, 1995.0, 1996.0, 1997.0, 1998.0, 1999.0, 2000.0, 2001.0, 2002.0, 2003.0, 2004.0, 2005.0, 2006.0, 2007.0, 2008.0, 2009.0, 2010.0, 2011.0, 2012.0, 2013.0, 2014.0, 2015.0], \"y\": [40, 303, 15, 23, 68, 472, 135, 142, 421, 263, 3070, 973, 3854, 848, 600, 247, 80, 33, 211, 141, 675, 307, 647, 501, 820, 1286, 1262, 1448, 1394, 1095, 1149, 811, 291, 117, 106, 158, 270, 486, 651, 613, 740, 913, 565, 242, 676, 693, 1355, 1039, 1457, 948, 981, 917, 736, 1038, 824, 931, 1049, 1201, 955, 794, 560, 616, 854, 782, 973, 1080, 922, 862, 749, 758, 549, 1319, 1425, 1538, 2363, 2232, 2518, 1761, 1726, 1615, 2369, 2702, 1764, 2247, 1533, 2194, 2797, 2354, 3037, 4171, 3477, 2784, 3041, 4315, 6302, 5665, 4112, 4795, 4794, 4877, 4053, 1533, 3727, 3368, 3867, 5027, 4401, 4089, 4457, 5002, 2708, 3469, 3415, 3875, 3237, 18], \"type\": \"scatter\", \"uid\": \"3e62e013-1ff1-4497-ab19-ad250c3b6d40\"}], {\"legend\": {\"bgcolor\": \"lightgray\", \"bordercolor\": \"gray\", \"borderwidth\": 2}, \"showlegend\": true, \"title\": {\"text\": \"Number of Properties Built per Year(ranging from 1900 to 2018)\"}, \"xaxis\": {\"title\": {\"text\": \"Year\"}}, \"yaxis\": {\"title\": {\"text\": \"Number of Properties\"}}}, {\"showLink\": false, \"linkText\": \"Export to plot.ly\", \"plotlyServerURL\": \"https://plot.ly\"})});</script><script type=\"text/javascript\">window.addEventListener(\"resize\", function(){window._Plotly.Plots.resize(document.getElementById(\"9fdc57dd-dbb5-43ae-a2d1-ced342822596\"));});</script>"
      ],
      "text/vnd.plotly.v1+html": [
       "<div id=\"9fdc57dd-dbb5-43ae-a2d1-ced342822596\" style=\"height: 525px; width: 100%;\" class=\"plotly-graph-div\"></div><script type=\"text/javascript\">require([\"plotly\"], function(Plotly) { window.PLOTLYENV=window.PLOTLYENV || {};window.PLOTLYENV.BASE_URL=\"https://plot.ly\";Plotly.newPlot(\"9fdc57dd-dbb5-43ae-a2d1-ced342822596\", [{\"line\": {\"color\": \"turquoise\", \"width\": 3}, \"marker\": {\"color\": \"black\"}, \"mode\": \"lines+markers\", \"name\": \"No. of prop\", \"text\": \"Properties\", \"x\": [1900.0, 1901.0, 1902.0, 1903.0, 1904.0, 1905.0, 1906.0, 1907.0, 1908.0, 1909.0, 1910.0, 1911.0, 1912.0, 1913.0, 1914.0, 1915.0, 1916.0, 1917.0, 1918.0, 1919.0, 1920.0, 1921.0, 1922.0, 1923.0, 1924.0, 1925.0, 1926.0, 1927.0, 1928.0, 1929.0, 1930.0, 1931.0, 1932.0, 1933.0, 1934.0, 1935.0, 1936.0, 1937.0, 1938.0, 1939.0, 1940.0, 1941.0, 1942.0, 1943.0, 1944.0, 1945.0, 1946.0, 1947.0, 1948.0, 1949.0, 1950.0, 1951.0, 1952.0, 1953.0, 1954.0, 1955.0, 1956.0, 1957.0, 1958.0, 1959.0, 1960.0, 1961.0, 1962.0, 1963.0, 1964.0, 1965.0, 1966.0, 1967.0, 1968.0, 1969.0, 1970.0, 1971.0, 1972.0, 1973.0, 1974.0, 1975.0, 1976.0, 1977.0, 1978.0, 1979.0, 1980.0, 1981.0, 1982.0, 1983.0, 1984.0, 1985.0, 1986.0, 1987.0, 1988.0, 1989.0, 1990.0, 1991.0, 1992.0, 1993.0, 1994.0, 1995.0, 1996.0, 1997.0, 1998.0, 1999.0, 2000.0, 2001.0, 2002.0, 2003.0, 2004.0, 2005.0, 2006.0, 2007.0, 2008.0, 2009.0, 2010.0, 2011.0, 2012.0, 2013.0, 2014.0, 2015.0], \"y\": [40, 303, 15, 23, 68, 472, 135, 142, 421, 263, 3070, 973, 3854, 848, 600, 247, 80, 33, 211, 141, 675, 307, 647, 501, 820, 1286, 1262, 1448, 1394, 1095, 1149, 811, 291, 117, 106, 158, 270, 486, 651, 613, 740, 913, 565, 242, 676, 693, 1355, 1039, 1457, 948, 981, 917, 736, 1038, 824, 931, 1049, 1201, 955, 794, 560, 616, 854, 782, 973, 1080, 922, 862, 749, 758, 549, 1319, 1425, 1538, 2363, 2232, 2518, 1761, 1726, 1615, 2369, 2702, 1764, 2247, 1533, 2194, 2797, 2354, 3037, 4171, 3477, 2784, 3041, 4315, 6302, 5665, 4112, 4795, 4794, 4877, 4053, 1533, 3727, 3368, 3867, 5027, 4401, 4089, 4457, 5002, 2708, 3469, 3415, 3875, 3237, 18], \"type\": \"scatter\", \"uid\": \"3e62e013-1ff1-4497-ab19-ad250c3b6d40\"}], {\"legend\": {\"bgcolor\": \"lightgray\", \"bordercolor\": \"gray\", \"borderwidth\": 2}, \"showlegend\": true, \"title\": {\"text\": \"Number of Properties Built per Year(ranging from 1900 to 2018)\"}, \"xaxis\": {\"title\": {\"text\": \"Year\"}}, \"yaxis\": {\"title\": {\"text\": \"Number of Properties\"}}}, {\"showLink\": false, \"linkText\": \"Export to plot.ly\", \"plotlyServerURL\": \"https://plot.ly\"})});</script><script type=\"text/javascript\">window.addEventListener(\"resize\", function(){window._Plotly.Plots.resize(document.getElementById(\"9fdc57dd-dbb5-43ae-a2d1-ced342822596\"));});</script>"
      ]
     },
     "metadata": {},
     "output_type": "display_data"
    }
   ],
   "source": [
    "# --- Write your code below ---\n",
    "import plotly.graph_objs as go\n",
    "import numpy as np\n",
    "from plotly.offline import download_plotlyjs, init_notebook_mode, plot, iplot\n",
    "\n",
    "df2 = df[(df['YEAR_BUILT']>=1900) & (df['YEAR_BUILT']<=2018)].YEAR_BUILT.unique()\n",
    "df1 = df[(df['YEAR_BUILT']>=1900) & (df['YEAR_BUILT']<=2018)].groupby(['YEAR_BUILT']).size()\n",
    "\n",
    "df2 = np.sort(df2)\n",
    "# print(len(df2))\n",
    "# print(len(df1))\n",
    "\n",
    "# Plotly in offline mode\n",
    "init_notebook_mode(connected=True)\n",
    "\n",
    "# Create the plot\n",
    "trace0 = go.Scatter(\n",
    "        x = df2,\n",
    "        y = df1.values,\n",
    "        text = 'Properties',\n",
    "        name = 'No. of prop',\n",
    "        mode = 'lines+markers',\n",
    "        marker=dict(\n",
    "            color='black',\n",
    "        ),\n",
    "        line = dict(\n",
    "            color = ('turquoise'),\n",
    "            width = 3)\n",
    "    )\n",
    "\n",
    "# Layout for the plot\n",
    "layout = dict(title = 'Number of Properties Built per Year(ranging from 1900 to 2018)',\n",
    "              xaxis = dict(title = 'Year'),\n",
    "              yaxis = dict(title = 'Number of Properties'),\n",
    "              showlegend=True,\n",
    "              legend=dict(bgcolor='lightgray',\n",
    "                        bordercolor='gray',\n",
    "                        borderwidth=2\n",
    "                    )\n",
    "            )\n",
    "\n",
    "# Add data to the plot\n",
    "data = [trace0]\n",
    "\n",
    "# Combine data and layout together into a single figure\n",
    "fig = dict(data=data, layout=layout)\n",
    "\n",
    "# IPython notebook- Plot\n",
    "iplot(fig, filename='line-plot')"
   ]
  },
  {
   "cell_type": "markdown",
   "metadata": {
    "collapsed": true
   },
   "source": [
    "Please write down the **two** most interesting findings that you draw from the plot. For example, you can say: <font color='blue'>\"Vancouver has about 6300 properties built in 1996 alone, which is more than any other year\"</font>. For each finding, please write <font color=\"red\">no more than 2 sentences</font>.\n",
    "\n",
    "**Findings**\n",
    "1. The years between 1988 and 2014 (including both) have a good number of propeties built in their period (value is approximately lower bounded at 3000), except for the year 2001 where the number of properties built has dropped to '1533' (the lowest in the range).\n",
    "2. The years 1910 and 1912 were the only ones to cross 3000 properties built per year (3070 and 3854 properties built in 1910 and 1912 respectively) in the period between 1900-1987."
   ]
  },
  {
   "cell_type": "markdown",
   "metadata": {},
   "source": [
    "### Question 5. Plot a bar chart"
   ]
  },
  {
   "cell_type": "markdown",
   "metadata": {},
   "source": [
    "Next, we want to find that, between 1900 and 2018, which years have the most number of properties been built? Plot a bar chart to show the top 20 years. "
   ]
  },
  {
   "cell_type": "code",
   "execution_count": 11,
   "metadata": {
    "scrolled": true
   },
   "outputs": [
    {
     "data": {
      "text/html": [
       "<script type=\"text/javascript\">window.PlotlyConfig = {MathJaxConfig: 'local'};</script><script type=\"text/javascript\">if (window.MathJax) {MathJax.Hub.Config({SVG: {font: \"STIX-Web\"}});}</script><script>requirejs.config({paths: { 'plotly': ['https://cdn.plot.ly/plotly-latest.min']},});if(!window._Plotly) {require(['plotly'],function(plotly) {window._Plotly=plotly;});}</script>"
      ],
      "text/vnd.plotly.v1+html": [
       "<script type=\"text/javascript\">window.PlotlyConfig = {MathJaxConfig: 'local'};</script><script type=\"text/javascript\">if (window.MathJax) {MathJax.Hub.Config({SVG: {font: \"STIX-Web\"}});}</script><script>requirejs.config({paths: { 'plotly': ['https://cdn.plot.ly/plotly-latest.min']},});if(!window._Plotly) {require(['plotly'],function(plotly) {window._Plotly=plotly;});}</script>"
      ]
     },
     "metadata": {},
     "output_type": "display_data"
    },
    {
     "data": {
      "application/vnd.plotly.v1+json": {
       "config": {
        "linkText": "Export to plot.ly",
        "plotlyServerURL": "https://plot.ly",
        "showLink": false
       },
       "data": [
        {
         "marker": {
          "color": "midnightblue"
         },
         "name": "Years before 1950(incl)",
         "opacity": 0.5,
         "text": "Properties built",
         "type": "bar",
         "uid": "8fe093f6-59b7-4d05-abfa-94821057a050",
         "x": [
          16
         ],
         "y": [
          3854
         ]
        },
        {
         "marker": {
          "color": "orange"
         },
         "name": "Years between 1950 and 2000(incl)",
         "opacity": 0.65,
         "text": "Properties built",
         "type": "bar",
         "uid": "701acd61-fedb-429f-806f-9f9a2563f8a9",
         "x": [
          0,
          1,
          4,
          5,
          6,
          9,
          10,
          11,
          13,
          18
         ],
         "y": [
          6302,
          5665,
          4877,
          4795,
          4794,
          4315,
          4171,
          4112,
          4053,
          3477
         ]
        },
        {
         "marker": {
          "color": "salmon"
         },
         "name": "Years after 2000",
         "opacity": 0.65,
         "text": "Properties built",
         "type": "bar",
         "uid": "1e712e2b-a3df-4008-bd5d-f4e303fbc211",
         "x": [
          2,
          3,
          7,
          8,
          12,
          14,
          15,
          17,
          19
         ],
         "y": [
          5027,
          5002,
          4457,
          4401,
          4089,
          3875,
          3867,
          3727,
          3469
         ]
        }
       ],
       "layout": {
        "legend": {
         "bgcolor": "lightgray",
         "bordercolor": "gray",
         "borderwidth": 2
        },
        "showlegend": true,
        "title": {
         "text": "Number of Properties Built in Top 20 Years(years that have seen maximum properties being built)"
        },
        "xaxis": {
         "linecolor": "#636363",
         "linewidth": 6,
         "mirror": true,
         "showline": true,
         "tick0": 1900,
         "tickmode": "array",
         "ticks": "outside",
         "ticktext": [
          1994,
          1995,
          2005,
          2009,
          1999,
          1997,
          1998,
          2008,
          2006,
          1993,
          1989,
          1996,
          2007,
          2000,
          2013,
          2004,
          1912,
          2002,
          1990,
          2011
         ],
         "tickvals": [
          0,
          1,
          2,
          3,
          4,
          5,
          6,
          7,
          8,
          9,
          10,
          11,
          12,
          13,
          14,
          15,
          16,
          17,
          18,
          19
         ],
         "title": {
          "text": "Year"
         }
        },
        "yaxis": {
         "linecolor": "#636363",
         "linewidth": 6,
         "mirror": true,
         "showline": true,
         "title": {
          "text": "No. of Properties"
         },
         "zeroline": true
        }
       }
      },
      "text/html": [
       "<div id=\"003ce6a0-082b-4340-8877-0180a0e746e6\" style=\"height: 525px; width: 100%;\" class=\"plotly-graph-div\"></div><script type=\"text/javascript\">require([\"plotly\"], function(Plotly) { window.PLOTLYENV=window.PLOTLYENV || {};window.PLOTLYENV.BASE_URL=\"https://plot.ly\";Plotly.newPlot(\"003ce6a0-082b-4340-8877-0180a0e746e6\", [{\"marker\": {\"color\": \"midnightblue\"}, \"name\": \"Years before 1950(incl)\", \"opacity\": 0.5, \"text\": \"Properties built\", \"x\": [16], \"y\": [3854], \"type\": \"bar\", \"uid\": \"79988d38-bdb5-4d68-bf76-48ad8ed9d21c\"}, {\"marker\": {\"color\": \"orange\"}, \"name\": \"Years between 1950 and 2000(incl)\", \"opacity\": 0.65, \"text\": \"Properties built\", \"x\": [0, 1, 4, 5, 6, 9, 10, 11, 13, 18], \"y\": [6302, 5665, 4877, 4795, 4794, 4315, 4171, 4112, 4053, 3477], \"type\": \"bar\", \"uid\": \"bcf38354-787e-4471-b2c2-ca62480485f9\"}, {\"marker\": {\"color\": \"salmon\"}, \"name\": \"Years after 2000\", \"opacity\": 0.65, \"text\": \"Properties built\", \"x\": [2, 3, 7, 8, 12, 14, 15, 17, 19], \"y\": [5027, 5002, 4457, 4401, 4089, 3875, 3867, 3727, 3469], \"type\": \"bar\", \"uid\": \"b4f7df4f-d9cb-420c-b6cf-ff68ff43aa90\"}], {\"legend\": {\"bgcolor\": \"lightgray\", \"bordercolor\": \"gray\", \"borderwidth\": 2}, \"showlegend\": true, \"title\": {\"text\": \"Number of Properties Built in Top 20 Years(years that have seen maximum properties being built)\"}, \"xaxis\": {\"linecolor\": \"#636363\", \"linewidth\": 6, \"mirror\": true, \"showline\": true, \"tick0\": 1900, \"tickmode\": \"array\", \"ticks\": \"outside\", \"ticktext\": [1994, 1995, 2005, 2009, 1999, 1997, 1998, 2008, 2006, 1993, 1989, 1996, 2007, 2000, 2013, 2004, 1912, 2002, 1990, 2011], \"tickvals\": [0, 1, 2, 3, 4, 5, 6, 7, 8, 9, 10, 11, 12, 13, 14, 15, 16, 17, 18, 19], \"title\": {\"text\": \"Year\"}}, \"yaxis\": {\"linecolor\": \"#636363\", \"linewidth\": 6, \"mirror\": true, \"showline\": true, \"title\": {\"text\": \"No. of Properties\"}, \"zeroline\": true}}, {\"showLink\": false, \"linkText\": \"Export to plot.ly\", \"plotlyServerURL\": \"https://plot.ly\"})});</script><script type=\"text/javascript\">window.addEventListener(\"resize\", function(){window._Plotly.Plots.resize(document.getElementById(\"003ce6a0-082b-4340-8877-0180a0e746e6\"));});</script>"
      ],
      "text/vnd.plotly.v1+html": [
       "<div id=\"003ce6a0-082b-4340-8877-0180a0e746e6\" style=\"height: 525px; width: 100%;\" class=\"plotly-graph-div\"></div><script type=\"text/javascript\">require([\"plotly\"], function(Plotly) { window.PLOTLYENV=window.PLOTLYENV || {};window.PLOTLYENV.BASE_URL=\"https://plot.ly\";Plotly.newPlot(\"003ce6a0-082b-4340-8877-0180a0e746e6\", [{\"marker\": {\"color\": \"midnightblue\"}, \"name\": \"Years before 1950(incl)\", \"opacity\": 0.5, \"text\": \"Properties built\", \"x\": [16], \"y\": [3854], \"type\": \"bar\", \"uid\": \"79988d38-bdb5-4d68-bf76-48ad8ed9d21c\"}, {\"marker\": {\"color\": \"orange\"}, \"name\": \"Years between 1950 and 2000(incl)\", \"opacity\": 0.65, \"text\": \"Properties built\", \"x\": [0, 1, 4, 5, 6, 9, 10, 11, 13, 18], \"y\": [6302, 5665, 4877, 4795, 4794, 4315, 4171, 4112, 4053, 3477], \"type\": \"bar\", \"uid\": \"bcf38354-787e-4471-b2c2-ca62480485f9\"}, {\"marker\": {\"color\": \"salmon\"}, \"name\": \"Years after 2000\", \"opacity\": 0.65, \"text\": \"Properties built\", \"x\": [2, 3, 7, 8, 12, 14, 15, 17, 19], \"y\": [5027, 5002, 4457, 4401, 4089, 3875, 3867, 3727, 3469], \"type\": \"bar\", \"uid\": \"b4f7df4f-d9cb-420c-b6cf-ff68ff43aa90\"}], {\"legend\": {\"bgcolor\": \"lightgray\", \"bordercolor\": \"gray\", \"borderwidth\": 2}, \"showlegend\": true, \"title\": {\"text\": \"Number of Properties Built in Top 20 Years(years that have seen maximum properties being built)\"}, \"xaxis\": {\"linecolor\": \"#636363\", \"linewidth\": 6, \"mirror\": true, \"showline\": true, \"tick0\": 1900, \"tickmode\": \"array\", \"ticks\": \"outside\", \"ticktext\": [1994, 1995, 2005, 2009, 1999, 1997, 1998, 2008, 2006, 1993, 1989, 1996, 2007, 2000, 2013, 2004, 1912, 2002, 1990, 2011], \"tickvals\": [0, 1, 2, 3, 4, 5, 6, 7, 8, 9, 10, 11, 12, 13, 14, 15, 16, 17, 18, 19], \"title\": {\"text\": \"Year\"}}, \"yaxis\": {\"linecolor\": \"#636363\", \"linewidth\": 6, \"mirror\": true, \"showline\": true, \"title\": {\"text\": \"No. of Properties\"}, \"zeroline\": true}}, {\"showLink\": false, \"linkText\": \"Export to plot.ly\", \"plotlyServerURL\": \"https://plot.ly\"})});</script><script type=\"text/javascript\">window.addEventListener(\"resize\", function(){window._Plotly.Plots.resize(document.getElementById(\"003ce6a0-082b-4340-8877-0180a0e746e6\"));});</script>"
      ]
     },
     "metadata": {},
     "output_type": "display_data"
    }
   ],
   "source": [
    "# --- Write your code below ---\n",
    "import plotly.graph_objs as go\n",
    "import numpy as np\n",
    "from plotly.offline import download_plotlyjs, init_notebook_mode, plot, iplot\n",
    "\n",
    "year = []\n",
    "\n",
    "# Prepare data for plotting\n",
    "df3 = -np.sort(-df1)\n",
    "df_top20 = df3[0:20]\n",
    "\n",
    "for i in df_top20:\n",
    "    for j in df2:\n",
    "        if df1[j] == i:\n",
    "            year.append(int(j))\n",
    "# print(year)\n",
    "    \n",
    "# Differentiate bars based on year built- use colours to differentiate\n",
    "count = 0\n",
    "name = ['1950-2000', '>2000', '<1950']\n",
    "year_less = []\n",
    "year_mid = []\n",
    "year_greater = []\n",
    "serial_num_less = []\n",
    "serial_num_mid = []\n",
    "serial_num_above = []\n",
    "\n",
    "for i in year:\n",
    "    if (i<=1950):\n",
    "        year_less.append(df_top20[count])\n",
    "        serial_num_less.append(count)\n",
    "    elif (i>1950) & (i<=2000):\n",
    "        year_mid.append(df_top20[count])\n",
    "        serial_num_mid.append(count)\n",
    "    else:\n",
    "        year_greater.append(df_top20[count])\n",
    "        serial_num_above.append(count)\n",
    "    count += 1\n",
    "\n",
    "serial_num_year = []\n",
    "for i in range(len(year)):\n",
    "    serial_num_year.append(i)\n",
    "\n",
    "\n",
    "# Creating the plot- Bar chart\n",
    "init_notebook_mode(connected=True)\n",
    "\n",
    "trace0 = go.Bar(\n",
    "        y = year_less,\n",
    "        x = serial_num_less,\n",
    "        name = 'Years before 1950(incl)',\n",
    "        text = 'Properties built',\n",
    "        marker=dict(\n",
    "            color='midnightblue',\n",
    "        ),\n",
    "        opacity=0.5\n",
    "    )\n",
    "\n",
    "trace1 = go.Bar(\n",
    "        y = year_mid,\n",
    "        x = serial_num_mid,\n",
    "        name = 'Years between 1950 and 2000(incl)',\n",
    "        text = 'Properties built',\n",
    "        marker=dict(\n",
    "            color='orange',\n",
    "        ),\n",
    "        opacity=0.65\n",
    "    )\n",
    "\n",
    "trace2 = go.Bar(\n",
    "        y = year_greater,\n",
    "        x = serial_num_above,\n",
    "        name = 'Years after 2000',\n",
    "        text = 'Properties built',\n",
    "        marker=dict(\n",
    "            color='salmon',\n",
    "        ),\n",
    "        opacity=0.65\n",
    "    )\n",
    "\n",
    "# Layout for the plot\n",
    "layout = dict(title = 'Number of Properties Built in Top 20 Years(years that have seen maximum properties being built)',\n",
    "              xaxis=go.layout.XAxis(title='Year',\n",
    "                        showline=True,\n",
    "                        mirror=True,\n",
    "                        tick0 =1900,\n",
    "                        tickmode='array',\n",
    "                        ticktext=year,\n",
    "                        tickvals=serial_num_year,\n",
    "                        ticks='outside',\n",
    "                        linecolor='#636363',\n",
    "                        linewidth=6\n",
    "                    ),\n",
    "              yaxis = dict(title = 'No. of Properties',\n",
    "                        zeroline=True,\n",
    "                        showline=True,\n",
    "                        mirror=True,\n",
    "                        linecolor='#636363',\n",
    "                        linewidth=6\n",
    "                    ),\n",
    "              showlegend=True,\n",
    "              legend=dict(bgcolor='lightgray',\n",
    "                        bordercolor='gray',\n",
    "                        borderwidth=2\n",
    "                    )\n",
    "              )\n",
    "\n",
    "# Add our data to the plot\n",
    "data = [trace0, trace1, trace2]\n",
    "\n",
    "# Combine data and layout into a single figure\n",
    "fig = dict(data=data, layout=layout)\n",
    "\n",
    "# IPython notebook- plot\n",
    "iplot(fig, filename='bar-plot')"
   ]
  },
  {
   "cell_type": "markdown",
   "metadata": {},
   "source": [
    "Please write down the **two** most interesting findings that you draw from the plot. \n",
    "\n",
    "**Findings**\n",
    "1. It can be seen from the plot that there is only one year falling before 1950, the year 1912- that has had above 2000 properties being built.\n",
    "2. The period between 1950 and 2000 have the most years (10 different years) falling in their range for having had properties built to be over 2000. And, the top 5 years fall in the range 1994-2009, which is again crowded around the beginning of 20th century."
   ]
  },
  {
   "cell_type": "markdown",
   "metadata": {},
   "source": [
    "### Question 6. Plot a histogram"
   ]
  },
  {
   "cell_type": "markdown",
   "metadata": {},
   "source": [
    "What's the distribution of the number of properties built between 1900 and 2018? Please plot a histogram to answer this question."
   ]
  },
  {
   "cell_type": "code",
   "execution_count": 12,
   "metadata": {},
   "outputs": [
    {
     "data": {
      "text/html": [
       "<script type=\"text/javascript\">window.PlotlyConfig = {MathJaxConfig: 'local'};</script><script type=\"text/javascript\">if (window.MathJax) {MathJax.Hub.Config({SVG: {font: \"STIX-Web\"}});}</script><script>requirejs.config({paths: { 'plotly': ['https://cdn.plot.ly/plotly-latest.min']},});if(!window._Plotly) {require(['plotly'],function(plotly) {window._Plotly=plotly;});}</script>"
      ],
      "text/vnd.plotly.v1+html": [
       "<script type=\"text/javascript\">window.PlotlyConfig = {MathJaxConfig: 'local'};</script><script type=\"text/javascript\">if (window.MathJax) {MathJax.Hub.Config({SVG: {font: \"STIX-Web\"}});}</script><script>requirejs.config({paths: { 'plotly': ['https://cdn.plot.ly/plotly-latest.min']},});if(!window._Plotly) {require(['plotly'],function(plotly) {window._Plotly=plotly;});}</script>"
      ]
     },
     "metadata": {},
     "output_type": "display_data"
    },
    {
     "data": {
      "application/vnd.plotly.v1+json": {
       "config": {
        "linkText": "Export to plot.ly",
        "plotlyServerURL": "https://plot.ly",
        "showLink": false
       },
       "data": [
        {
         "histnorm": "percent",
         "marker": {
          "color": "tomato",
          "line": {
           "color": "rgb(8,48,107)",
           "width": 2
          }
         },
         "name": "Frequency- Percentage",
         "opacity": 0.65,
         "text": "percent fall in this range",
         "type": "histogram",
         "uid": "f10bd5cc-7fe3-4e28-aad1-64c56f2e09dd",
         "x": [
          40,
          303,
          15,
          23,
          68,
          472,
          135,
          142,
          421,
          263,
          3070,
          973,
          3854,
          848,
          600,
          247,
          80,
          33,
          211,
          141,
          675,
          307,
          647,
          501,
          820,
          1286,
          1262,
          1448,
          1394,
          1095,
          1149,
          811,
          291,
          117,
          106,
          158,
          270,
          486,
          651,
          613,
          740,
          913,
          565,
          242,
          676,
          693,
          1355,
          1039,
          1457,
          948,
          981,
          917,
          736,
          1038,
          824,
          931,
          1049,
          1201,
          955,
          794,
          560,
          616,
          854,
          782,
          973,
          1080,
          922,
          862,
          749,
          758,
          549,
          1319,
          1425,
          1538,
          2363,
          2232,
          2518,
          1761,
          1726,
          1615,
          2369,
          2702,
          1764,
          2247,
          1533,
          2194,
          2797,
          2354,
          3037,
          4171,
          3477,
          2784,
          3041,
          4315,
          6302,
          5665,
          4112,
          4795,
          4794,
          4877,
          4053,
          1533,
          3727,
          3368,
          3867,
          5027,
          4401,
          4089,
          4457,
          5002,
          2708,
          3469,
          3415,
          3875,
          3237,
          18
         ],
         "xbins": {
          "size": 251
         }
        }
       ],
       "layout": {
        "legend": {
         "bgcolor": "lightgray",
         "bordercolor": "gray",
         "borderwidth": 2
        },
        "showlegend": true,
        "title": {
         "text": "Number of Properties Built VS the Year Built"
        },
        "xaxis": {
         "linecolor": "#636363",
         "linewidth": 4,
         "showline": true,
         "title": {
          "text": "No. of Properties Built (interval range is for every 251 increase in properties built)"
         },
         "zeroline": true,
         "zerolinecolor": "#969696",
         "zerolinewidth": 2
        },
        "yaxis": {
         "linecolor": "#636363",
         "linewidth": 4,
         "showgrid": true,
         "showline": true,
         "title": {
          "text": "Frequency (in percent)"
         },
         "zeroline": true,
         "zerolinecolor": "#969696",
         "zerolinewidth": 2
        }
       }
      },
      "text/html": [
       "<div id=\"1130e3da-fb10-42e1-a1a6-f73fb435832b\" style=\"height: 525px; width: 100%;\" class=\"plotly-graph-div\"></div><script type=\"text/javascript\">require([\"plotly\"], function(Plotly) { window.PLOTLYENV=window.PLOTLYENV || {};window.PLOTLYENV.BASE_URL=\"https://plot.ly\";Plotly.newPlot(\"1130e3da-fb10-42e1-a1a6-f73fb435832b\", [{\"histnorm\": \"percent\", \"marker\": {\"color\": \"tomato\", \"line\": {\"color\": \"rgb(8,48,107)\", \"width\": 2}}, \"name\": \"Frequency- Percentage\", \"opacity\": 0.65, \"text\": \"percent fall in this range\", \"x\": [40, 303, 15, 23, 68, 472, 135, 142, 421, 263, 3070, 973, 3854, 848, 600, 247, 80, 33, 211, 141, 675, 307, 647, 501, 820, 1286, 1262, 1448, 1394, 1095, 1149, 811, 291, 117, 106, 158, 270, 486, 651, 613, 740, 913, 565, 242, 676, 693, 1355, 1039, 1457, 948, 981, 917, 736, 1038, 824, 931, 1049, 1201, 955, 794, 560, 616, 854, 782, 973, 1080, 922, 862, 749, 758, 549, 1319, 1425, 1538, 2363, 2232, 2518, 1761, 1726, 1615, 2369, 2702, 1764, 2247, 1533, 2194, 2797, 2354, 3037, 4171, 3477, 2784, 3041, 4315, 6302, 5665, 4112, 4795, 4794, 4877, 4053, 1533, 3727, 3368, 3867, 5027, 4401, 4089, 4457, 5002, 2708, 3469, 3415, 3875, 3237, 18], \"xbins\": {\"size\": 251}, \"type\": \"histogram\", \"uid\": \"f10bd5cc-7fe3-4e28-aad1-64c56f2e09dd\"}], {\"legend\": {\"bgcolor\": \"lightgray\", \"bordercolor\": \"gray\", \"borderwidth\": 2}, \"showlegend\": true, \"title\": {\"text\": \"Number of Properties Built VS the Year Built\"}, \"xaxis\": {\"linecolor\": \"#636363\", \"linewidth\": 4, \"showline\": true, \"title\": {\"text\": \"No. of Properties Built (interval range is for every 251 increase in properties built)\"}, \"zeroline\": true, \"zerolinecolor\": \"#969696\", \"zerolinewidth\": 2}, \"yaxis\": {\"linecolor\": \"#636363\", \"linewidth\": 4, \"showgrid\": true, \"showline\": true, \"title\": {\"text\": \"Frequency (in percent)\"}, \"zeroline\": true, \"zerolinecolor\": \"#969696\", \"zerolinewidth\": 2}}, {\"showLink\": false, \"linkText\": \"Export to plot.ly\", \"plotlyServerURL\": \"https://plot.ly\"})});</script><script type=\"text/javascript\">window.addEventListener(\"resize\", function(){window._Plotly.Plots.resize(document.getElementById(\"1130e3da-fb10-42e1-a1a6-f73fb435832b\"));});</script>"
      ],
      "text/vnd.plotly.v1+html": [
       "<div id=\"1130e3da-fb10-42e1-a1a6-f73fb435832b\" style=\"height: 525px; width: 100%;\" class=\"plotly-graph-div\"></div><script type=\"text/javascript\">require([\"plotly\"], function(Plotly) { window.PLOTLYENV=window.PLOTLYENV || {};window.PLOTLYENV.BASE_URL=\"https://plot.ly\";Plotly.newPlot(\"1130e3da-fb10-42e1-a1a6-f73fb435832b\", [{\"histnorm\": \"percent\", \"marker\": {\"color\": \"tomato\", \"line\": {\"color\": \"rgb(8,48,107)\", \"width\": 2}}, \"name\": \"Frequency- Percentage\", \"opacity\": 0.65, \"text\": \"percent fall in this range\", \"x\": [40, 303, 15, 23, 68, 472, 135, 142, 421, 263, 3070, 973, 3854, 848, 600, 247, 80, 33, 211, 141, 675, 307, 647, 501, 820, 1286, 1262, 1448, 1394, 1095, 1149, 811, 291, 117, 106, 158, 270, 486, 651, 613, 740, 913, 565, 242, 676, 693, 1355, 1039, 1457, 948, 981, 917, 736, 1038, 824, 931, 1049, 1201, 955, 794, 560, 616, 854, 782, 973, 1080, 922, 862, 749, 758, 549, 1319, 1425, 1538, 2363, 2232, 2518, 1761, 1726, 1615, 2369, 2702, 1764, 2247, 1533, 2194, 2797, 2354, 3037, 4171, 3477, 2784, 3041, 4315, 6302, 5665, 4112, 4795, 4794, 4877, 4053, 1533, 3727, 3368, 3867, 5027, 4401, 4089, 4457, 5002, 2708, 3469, 3415, 3875, 3237, 18], \"xbins\": {\"size\": 251}, \"type\": \"histogram\", \"uid\": \"f10bd5cc-7fe3-4e28-aad1-64c56f2e09dd\"}], {\"legend\": {\"bgcolor\": \"lightgray\", \"bordercolor\": \"gray\", \"borderwidth\": 2}, \"showlegend\": true, \"title\": {\"text\": \"Number of Properties Built VS the Year Built\"}, \"xaxis\": {\"linecolor\": \"#636363\", \"linewidth\": 4, \"showline\": true, \"title\": {\"text\": \"No. of Properties Built (interval range is for every 251 increase in properties built)\"}, \"zeroline\": true, \"zerolinecolor\": \"#969696\", \"zerolinewidth\": 2}, \"yaxis\": {\"linecolor\": \"#636363\", \"linewidth\": 4, \"showgrid\": true, \"showline\": true, \"title\": {\"text\": \"Frequency (in percent)\"}, \"zeroline\": true, \"zerolinecolor\": \"#969696\", \"zerolinewidth\": 2}}, {\"showLink\": false, \"linkText\": \"Export to plot.ly\", \"plotlyServerURL\": \"https://plot.ly\"})});</script><script type=\"text/javascript\">window.addEventListener(\"resize\", function(){window._Plotly.Plots.resize(document.getElementById(\"1130e3da-fb10-42e1-a1a6-f73fb435832b\"));});</script>"
      ]
     },
     "metadata": {},
     "output_type": "display_data"
    }
   ],
   "source": [
    "# --- Write your code below ---\n",
    "import plotly.plotly as py\n",
    "import plotly.figure_factory as ff\n",
    "from plotly.offline import download_plotlyjs, init_notebook_mode, plot, iplot\n",
    "import numpy as np\n",
    "\n",
    "df4 = df[(df['YEAR_BUILT']>=1900) & (df['YEAR_BUILT']<=2018)].groupby(['YEAR_BUILT']).size()\n",
    "# print(df4)\n",
    "\n",
    "# Compute bin value\n",
    "minimum = np.amin(df4.values)\n",
    "maximum = np.amax(df4.values)\n",
    "bins = int((maximum-minimum)/25)\n",
    "\n",
    "# Create the plot data\n",
    "data = [go.Histogram(x=df4,\n",
    "                histnorm='percent',\n",
    "                name='Frequency- Percentage',\n",
    "                text='percent fall in this range',\n",
    "                xbins=dict(size=bins\n",
    "                ),\n",
    "                marker=dict(\n",
    "                    color='tomato',\n",
    "                    line=dict(\n",
    "                        color='rgb(8,48,107)',\n",
    "                        width=2\n",
    "                    )\n",
    "                ),\n",
    "                opacity=0.65)]\n",
    "\n",
    "# Create Layout for the plot\n",
    "layout = go.Layout(\n",
    "    title='Number of Properties Built VS the Year Built',\n",
    "    xaxis=dict(\n",
    "        title='No. of Properties Built (interval range is for every '+str(bins)+' increase in properties built)',\n",
    "        zerolinecolor='#969696',\n",
    "        zerolinewidth=2,\n",
    "        zeroline=True,\n",
    "        linecolor='#636363',\n",
    "        linewidth=4,\n",
    "        showline=True,\n",
    "    ),\n",
    "    yaxis=dict(\n",
    "        title='Frequency (in percent)',\n",
    "        showgrid=True,\n",
    "        zeroline=True,\n",
    "        showline=True,\n",
    "        zerolinecolor='#969696',\n",
    "        zerolinewidth=2,\n",
    "        linecolor='#636363',\n",
    "        linewidth=4,\n",
    "    ),\n",
    "    showlegend=True,\n",
    "    legend=dict(bgcolor='lightgray',\n",
    "            bordercolor='gray',\n",
    "            borderwidth=2,\n",
    "        )\n",
    "    )\n",
    "\n",
    "# Show the plot\n",
    "init_notebook_mode(connected=True)\n",
    "fig = go.Figure(data=data, layout=layout)\n",
    "iplot(fig, filename='histogram')"
   ]
  },
  {
   "cell_type": "markdown",
   "metadata": {},
   "source": [
    "Please write down the **two** most interesting findings that you draw from the plot. \n",
    "\n",
    "**Findings**\n",
    "1. Interval '753-1003' has the highest percent (which also means count) frequency-15.517% of properties being built in that range for the span of years between 1900-2018.\n",
    "2. 0-1000 is the most frequent of all ranges. Meaning that there are more number of properties built falling in the range of 0-1000 between 1900-2018. Also, between 2000-3000 the frequency observed is fairly constant across the sub-intervals (~1.74-2.5)."
   ]
  },
  {
   "cell_type": "markdown",
   "metadata": {},
   "source": [
    "### Question 7. Make a scatter plot"
   ]
  },
  {
   "cell_type": "markdown",
   "metadata": {},
   "source": [
    "Suppose we are interested in those years which built more than 2000 properties. Make a scatter plot to examine whether there is a relationship between the number of built properties and the year?"
   ]
  },
  {
   "cell_type": "code",
   "execution_count": 13,
   "metadata": {
    "scrolled": true
   },
   "outputs": [
    {
     "data": {
      "text/html": [
       "<script type=\"text/javascript\">window.PlotlyConfig = {MathJaxConfig: 'local'};</script><script type=\"text/javascript\">if (window.MathJax) {MathJax.Hub.Config({SVG: {font: \"STIX-Web\"}});}</script><script>requirejs.config({paths: { 'plotly': ['https://cdn.plot.ly/plotly-latest.min']},});if(!window._Plotly) {require(['plotly'],function(plotly) {window._Plotly=plotly;});}</script>"
      ],
      "text/vnd.plotly.v1+html": [
       "<script type=\"text/javascript\">window.PlotlyConfig = {MathJaxConfig: 'local'};</script><script type=\"text/javascript\">if (window.MathJax) {MathJax.Hub.Config({SVG: {font: \"STIX-Web\"}});}</script><script>requirejs.config({paths: { 'plotly': ['https://cdn.plot.ly/plotly-latest.min']},});if(!window._Plotly) {require(['plotly'],function(plotly) {window._Plotly=plotly;});}</script>"
      ]
     },
     "metadata": {},
     "output_type": "display_data"
    },
    {
     "data": {
      "text/html": [
       "<iframe id=\"igraph\" scrolling=\"no\" style=\"border:none;\" seamless=\"seamless\" src=\"https://plot.ly/~savitaavenkat/4.embed\" height=\"525px\" width=\"100%\"></iframe>"
      ],
      "text/plain": [
       "<plotly.tools.PlotlyDisplay object>"
      ]
     },
     "execution_count": 13,
     "metadata": {},
     "output_type": "execute_result"
    }
   ],
   "source": [
    "# --- Write your code below ---\n",
    "# Plot may take some time to appear as the data points are vast in number- pls hold on \n",
    "# Else Run this cell alone separately!!\n",
    "\n",
    "import plotly.plotly as py\n",
    "import plotly.graph_objs as go\n",
    "from plotly.offline import download_plotlyjs, init_notebook_mode, plot, iplot\n",
    "\n",
    "# Prepare data for plotting\n",
    "df_above = df1\n",
    "count = 0\n",
    "year_above = []\n",
    "prop_above = []\n",
    "\n",
    "for i in df_above:\n",
    "    if i > 2000:\n",
    "        year_above.append(df2[count])\n",
    "        prop_above.append(i)   \n",
    "    count += 1\n",
    "# print(year_above)\n",
    "\n",
    "# Create plot data\n",
    "data = [go.Scatter(\n",
    "    text = 'Year',\n",
    "    x = prop_above,\n",
    "    y = year_above,\n",
    "    name = 'Years for which properties built >2000',\n",
    "    mode = 'markers',\n",
    "    marker = dict(\n",
    "        size = 10,\n",
    "        color = 'maroon',\n",
    "        line = dict(\n",
    "            width = 1.5,\n",
    "            color = 'pink'\n",
    "        )\n",
    "    ),\n",
    "    opacity = 0.7\n",
    ")]\n",
    "\n",
    "# Create/Design layout for the plot\n",
    "layout = dict(title = 'Plot of Years in which more than 2000 properties were built',\n",
    "              yaxis = dict(title='Year Built',\n",
    "                        tick0=1900,\n",
    "                        showgrid=False,\n",
    "                        linecolor='#636363',\n",
    "                        linewidth=2\n",
    "                    ),\n",
    "              xaxis = dict(title='No. of properties',\n",
    "                        showgrid=False,\n",
    "                        showline=True,\n",
    "                        linecolor='#636363',\n",
    "                        linewidth=2\n",
    "                    ),\n",
    "              showlegend=True,\n",
    "              legend=dict(bgcolor='lightgray',\n",
    "                        bordercolor='gray',\n",
    "                        borderwidth=2\n",
    "                    )\n",
    "             )\n",
    "\n",
    "# Plot the data using plotly offline mode\n",
    "init_notebook_mode(connected=True)\n",
    "fig = dict(data=data, layout=layout)\n",
    "py.iplot(fig, filename='scatter')"
   ]
  },
  {
   "cell_type": "markdown",
   "metadata": {},
   "source": [
    "Please write down the **two** most interesting findings that you draw from the plot. \n",
    "\n",
    "**Findings**\n",
    "1. There are only two years (1910 and 1912) below 1950's that have above 2000 properties built and both are in the range of 3000-4000 properties. Also, there are only 5 years that have above 2000 properties built before 1980's.\n",
    "2. The consecutive years 1994 and 1995 have the maximum number of properties built out of the entire span between 1900-2018."
   ]
  },
  {
   "cell_type": "markdown",
   "metadata": {},
   "source": [
    "### Question 8. PDF and CDF"
   ]
  },
  {
   "cell_type": "markdown",
   "metadata": {},
   "source": [
    "Can you believe that you have already drawn 8 interesting findings by exploring a single column! This is the power of EDA combined with critical thinking. Now we are moving to multivariate analysis.\n",
    "\n",
    "Suppose you want to compare the housing price between this year and last year, i.e., CURRENT_PRICE vs. PREVIOUS_PRICE. \n",
    "You can plot their distributions, and make the comparison. There are two ways to define a distribution: [Probabilistic Distribution Function](https://en.wikipedia.org/wiki/Probability_density_function) (PDF) and [Cumulative Distribution Function](https://en.wikipedia.org/wiki/Cumulative_distribution_function) (CDF). \n",
    "\n",
    "In the following, please make two plots and put them side-by-side.  \n",
    "* In the first plot, use histograms to plot the probabilistic distributions of CURRENT_PRICE and PREVIOUS_PRICE.\n",
    "* In the second plot, use histograms to plot the cumulative distributions of CURRENT_PRICE and PREVIOUS_PRICE.\n",
    "\n",
    "There are a few properties which are way more expensive than the others. For both plots, please exclude those properties by setting `xlim` = (0, 5Million)."
   ]
  },
  {
   "cell_type": "code",
   "execution_count": 14,
   "metadata": {},
   "outputs": [
    {
     "name": "stdout",
     "output_type": "stream",
     "text": [
      "This is the format of your plot grid:\n",
      "[ (1,1) x1,y1 ]  [ (1,2) x2,y2 ]\n",
      "\n"
     ]
    },
    {
     "data": {
      "text/html": [
       "<script type=\"text/javascript\">window.PlotlyConfig = {MathJaxConfig: 'local'};</script><script type=\"text/javascript\">if (window.MathJax) {MathJax.Hub.Config({SVG: {font: \"STIX-Web\"}});}</script><script>requirejs.config({paths: { 'plotly': ['https://cdn.plot.ly/plotly-latest.min']},});if(!window._Plotly) {require(['plotly'],function(plotly) {window._Plotly=plotly;});}</script>"
      ],
      "text/vnd.plotly.v1+html": [
       "<script type=\"text/javascript\">window.PlotlyConfig = {MathJaxConfig: 'local'};</script><script type=\"text/javascript\">if (window.MathJax) {MathJax.Hub.Config({SVG: {font: \"STIX-Web\"}});}</script><script>requirejs.config({paths: { 'plotly': ['https://cdn.plot.ly/plotly-latest.min']},});if(!window._Plotly) {require(['plotly'],function(plotly) {window._Plotly=plotly;});}</script>"
      ]
     },
     "metadata": {},
     "output_type": "display_data"
    },
    {
     "name": "stderr",
     "output_type": "stream",
     "text": [
      "/anaconda3/lib/python3.7/site-packages/plotly/plotly/plotly.py:230: UserWarning:\n",
      "\n",
      "Woah there! Look at all those points! Due to browser limitations, the Plotly SVG drawing functions have a hard time graphing more than 500k data points for line charts, or 40k points for other types of charts. Here are some suggestions:\n",
      "(1) Use the `plotly.graph_objs.Scattergl` trace object to generate a WebGl graph.\n",
      "(2) Trying using the image API to return an image instead of a graph URL\n",
      "(3) Use matplotlib\n",
      "(4) See if you can create your visualization with fewer data points\n",
      "\n",
      "If the visualization you're using aggregates points (e.g., box plot, histogram, etc.) you can disregard this warning.\n",
      "\n"
     ]
    },
    {
     "name": "stdout",
     "output_type": "stream",
     "text": [
      "High five! You successfully sent some data to your account on plotly. View your plot in your browser at https://plot.ly/~savitaavenkat/0 or inside your plot.ly account where it is named 'histogram-prob-dist-1'\n"
     ]
    },
    {
     "data": {
      "text/html": [
       "<iframe id=\"igraph\" scrolling=\"no\" style=\"border:none;\" seamless=\"seamless\" src=\"https://plot.ly/~savitaavenkat/0.embed\" height=\"450px\" width=\"2000px\"></iframe>"
      ],
      "text/plain": [
       "<plotly.tools.PlotlyDisplay object>"
      ]
     },
     "execution_count": 14,
     "metadata": {},
     "output_type": "execute_result"
    }
   ],
   "source": [
    "# --- Write your code below ---\n",
    "# Plot may take some time to appear as the data points are vast in number- pls hold on!\n",
    "# Else Run this cell alone separately!! PLEASE RUN FIRST CELL BEFORE THIS- to get df value initialized.\n",
    "from plotly import tools\n",
    "import plotly.plotly as py\n",
    "import numpy as np\n",
    "import plotly.graph_objs as go\n",
    "from plotly.offline import download_plotlyjs, init_notebook_mode, plot, iplot\n",
    "tools.set_credentials_file(username='savitaavenkat', api_key='VZAuJ6lrXjkQPTW5qv6K')\n",
    "\n",
    "# Prepare data for plotting\n",
    "df6 = df[(df['CURRENT_PRICE']>0) & (df['PREVIOUS_PRICE']>0)].CURRENT_PRICE.dropna()\n",
    "df7 = df[(df['CURRENT_PRICE']>0) & (df['PREVIOUS_PRICE']>0)].PREVIOUS_PRICE.dropna()\n",
    "\n",
    "# Design the way data needs to be plotted on to the figure\n",
    "trace0 = go.Histogram(x=df6, \n",
    "                    xbins=dict(start=np.min(df6), size=90, end=np.max(df6)),\n",
    "                    name='current price distribtuion- PDF plot',\n",
    "                    marker=dict(color='#F64E8B'),\n",
    "                    opacity = 0.75\n",
    "                    )\n",
    "\n",
    "trace1 = go.Histogram(x=df7, \n",
    "                    xbins=dict(start=np.min(df7), size=90, end=np.max(df7)),\n",
    "                    name='previous price distribution- PDF plot',\n",
    "                    marker=dict(color='lightgreen'),\n",
    "                    opacity = 0.75\n",
    "                    )\n",
    "trace2 = go.Histogram(x=df6, \n",
    "                    histnorm='probability',\n",
    "                    cumulative=dict(enabled=True),\n",
    "                    name='current price- CDF plot',\n",
    "                    marker=dict(color='orange'),\n",
    "                    opacity = 0.75\n",
    "                    )\n",
    "\n",
    "trace3 = go.Histogram(x=df7, \n",
    "                    histnorm='probability',\n",
    "                    cumulative=dict(enabled=True),\n",
    "                    name='previous price- CDF plot',\n",
    "                    marker=dict(color='lightgreen'),\n",
    "                    opacity = 0.75\n",
    "                    )\n",
    "\n",
    "# Create layout for the plot\n",
    "layout = go.Layout(\n",
    "        title=\"PDF, CDF plots of Current Price vs Previous Price\",\n",
    "        xaxis=dict(title='price of the property (in million)',\n",
    "            range=[0, 5000000],\n",
    "            ),\n",
    "        yaxis=dict(title='Number of Properties (x10^1)',\n",
    "            ),\n",
    "        showlegend=True,\n",
    "        barmode='overlay',\n",
    "        legend=dict(bgcolor='lightgray',\n",
    "            bordercolor='gray',\n",
    "            borderwidth=2\n",
    "        )\n",
    "    )\n",
    "\n",
    "# Create subplots\n",
    "fig = tools.make_subplots(rows=1, cols=2, subplot_titles=('PDF plot', 'CDF plot'))\n",
    "\n",
    "fig.append_trace(trace0, 1, 1)\n",
    "fig.append_trace(trace1, 1, 1)\n",
    "fig.append_trace(trace2, 1, 2)\n",
    "fig.append_trace(trace3, 1, 2)\n",
    "\n",
    "fig['layout']['xaxis1'].update(range=[0, 5000000], showgrid=False, type='linear')\n",
    "fig['layout']['xaxis2'].update(title='price of the property (in million)', range=[0, 5000000], showgrid=False, type='linear')\n",
    "\n",
    "fig['layout']['yaxis1'].update(showgrid=False, type='linear')\n",
    "fig['layout']['yaxis2'].update(title='Probability', showgrid=False, type='linear')\n",
    "\n",
    "# Finally plot the figure\n",
    "init_notebook_mode(connected=True)\n",
    "fig['layout'].update(layout, height=450, width=2000)\n",
    "\n",
    "# py.plot(fig, filename='histogram-prob-dist-1')\n",
    "\n",
    "py.iplot(fig, filename='histogram-prob-dist-1')"
   ]
  },
  {
   "cell_type": "markdown",
   "metadata": {},
   "source": [
    "Please write down the **two** most interesting findings that you draw from the plots. \n",
    "\n",
    "**Findings**\n",
    "1. It can be seen from the PDF(probability density function) plot that initally the number of properties for previous price is higher than that for the current price for the range between approximately 0-0.6million. However, post 0.6million (approx) , above that range number of properties is higher for current price.\n",
    "2. The CDF plot depicts that after approximatley 2million price range, the probability that a property built with current price or previous price is increasing with the value of the property. And, as the price approaches 5 million- the probability that a property built of that value being either current price or previous price almost becomes 1."
   ]
  },
  {
   "cell_type": "markdown",
   "metadata": {},
   "source": [
    "### Question 9. Use EDA to answer an interesting question (1)"
   ]
  },
  {
   "cell_type": "markdown",
   "metadata": {},
   "source": [
    "In the above plots, we found that the overall housing price has increased, but we do not which type of property has increased more. \n",
    "\n",
    "Now we add another variable `LEGAL_TYPE` (e.g., STRATA, LAND) to the analysis, and consider three variables (`LEGAL_TYPE`, `CURRENT_PRICE`, `PREVIOUS_PRICE`) in total. \n",
    "\n",
    "In the following, please make two plots and put them side-by-side.\n",
    "* In the first plot, please use histograms to plot the probabilistic distributions of CURRENT_PRICE and PREVIOUS_PRICE for `LEGAL_TYPE` = \"STRATA\".\n",
    "* In the first plot, please use histograms to plot the probabilistic distributions of CURRENT_PRICE and PREVIOUS_PRICE for `LEGAL_TYPE` = \"LAND\"."
   ]
  },
  {
   "cell_type": "code",
   "execution_count": 15,
   "metadata": {
    "scrolled": true
   },
   "outputs": [
    {
     "name": "stdout",
     "output_type": "stream",
     "text": [
      "This is the format of your plot grid:\n",
      "[ (1,1) x1,y1 ]  [ (1,2) x2,y2 ]\n",
      "\n"
     ]
    },
    {
     "name": "stderr",
     "output_type": "stream",
     "text": [
      "/anaconda3/lib/python3.7/site-packages/plotly/plotly/plotly.py:230: UserWarning:\n",
      "\n",
      "Woah there! Look at all those points! Due to browser limitations, the Plotly SVG drawing functions have a hard time graphing more than 500k data points for line charts, or 40k points for other types of charts. Here are some suggestions:\n",
      "(1) Use the `plotly.graph_objs.Scattergl` trace object to generate a WebGl graph.\n",
      "(2) Trying using the image API to return an image instead of a graph URL\n",
      "(3) Use matplotlib\n",
      "(4) See if you can create your visualization with fewer data points\n",
      "\n",
      "If the visualization you're using aggregates points (e.g., box plot, histogram, etc.) you can disregard this warning.\n",
      "\n"
     ]
    },
    {
     "data": {
      "text/html": [
       "<iframe id=\"igraph\" scrolling=\"no\" style=\"border:none;\" seamless=\"seamless\" src=\"https://plot.ly/~savitaavenkat/2.embed\" height=\"450px\" width=\"2000px\"></iframe>"
      ],
      "text/plain": [
       "<plotly.tools.PlotlyDisplay object>"
      ]
     },
     "execution_count": 15,
     "metadata": {},
     "output_type": "execute_result"
    }
   ],
   "source": [
    "# --- Write your code below ---\n",
    "# Plot may take some time to appear as the data points are vast in number- pls hold on \n",
    "# Else Run this cell alone separately!! PLEASE RUN FIRST CELL BEFORE THIS- to get df value initialized.\n",
    "\n",
    "from plotly import tools\n",
    "import plotly.plotly as py\n",
    "import plotly.graph_objs as go\n",
    "from plotly.tools import FigureFactory as FF\n",
    "from plotly.offline import download_plotlyjs, init_notebook_mode, plot, iplot\n",
    "tools.set_credentials_file(username='savitaavenkat', api_key='VZAuJ6lrXjkQPTW5qv6K')\n",
    "\n",
    "# Prepare data for plotting\n",
    "df9 = df[(df['CURRENT_PRICE']>0) & (df['PREVIOUS_PRICE']>0) & (df['LEGAL_TYPE']==\"STRATA\")].CURRENT_PRICE.dropna()\n",
    "df10 = df[(df['CURRENT_PRICE']>0) & (df['PREVIOUS_PRICE']>0) & (df['LEGAL_TYPE']==\"STRATA\")].PREVIOUS_PRICE.dropna()\n",
    "df11 = df[(df['CURRENT_PRICE']>0) & (df['PREVIOUS_PRICE']>0) & (df['LEGAL_TYPE']==\"LAND\")].CURRENT_PRICE.dropna()\n",
    "df12 = df[(df['CURRENT_PRICE']>0) & (df['PREVIOUS_PRICE']>0) & (df['LEGAL_TYPE']==\"LAND\")].PREVIOUS_PRICE.dropna()\n",
    "\n",
    "# Design the way data needs to be plotted on to the figure\n",
    "trace0 = go.Histogram(x=df9, \n",
    "                     xbins=dict(start=np.min(df9), size=90, end=np.max(df9)),\n",
    "                     name='current price distribtuion when legal type is strata',\n",
    "                     marker=dict(color='#F64E8B'),\n",
    "                     opacity = 0.75\n",
    "                    )\n",
    "\n",
    "trace1 = go.Histogram(x=df10, \n",
    "                     xbins=dict(start=np.min(df10), size=90, end=np.max(df10)),\n",
    "                     name='previous price distribution when legal type is strata',\n",
    "                     marker=dict(color='lightgreen'),\n",
    "                     opacity = 0.75\n",
    "                    )\n",
    "trace2 = go.Histogram(x=df11, \n",
    "                     histnorm='probability',\n",
    "                     xbins=dict(start=np.min(df11), size=500, end=np.max(df11)),\n",
    "                     name='current price distribtuion when legal type is land',\n",
    "                     marker=dict(color='orange'),\n",
    "                     opacity = 0.75\n",
    "                    )\n",
    "\n",
    "trace3 = go.Histogram(x=df12, \n",
    "                     histnorm='probability',\n",
    "                     xbins=dict(start=np.min(df12), size=500, end=np.max(df12)),\n",
    "                     name='previous price distribution when legal type is land',\n",
    "                     marker=dict(color='gray'),\n",
    "                     opacity = 0.75\n",
    "                    )\n",
    "\n",
    "# Create layout for the plot\n",
    "layout = go.Layout(\n",
    "        title=\"Probability Distribution of Current Price vs Previous Price based on legal type\",\n",
    "        xaxis=dict(title='price of the property (in million)',\n",
    "            range=[0, 5000000],\n",
    "            ),\n",
    "        yaxis=dict(title='Number of Properties (x10^1)',\n",
    "            ),\n",
    "        showlegend=True,\n",
    "        barmode='overlay',\n",
    "        legend=dict(bgcolor='lightgray',\n",
    "            bordercolor='gray',\n",
    "            borderwidth=2\n",
    "        )\n",
    "    )\n",
    "\n",
    "# Create subplots\n",
    "fig = tools.make_subplots(rows=1, cols=2, subplot_titles=('Plot based on Strata', 'Plot based on Land'))\n",
    "\n",
    "fig.append_trace(trace0, 1, 1)\n",
    "fig.append_trace(trace1, 1, 1)\n",
    "fig.append_trace(trace2, 1, 2)\n",
    "fig.append_trace(trace3, 1, 2)\n",
    "\n",
    "fig['layout']['xaxis1'].update(range=[0, 5000000], showgrid=False, type='linear')\n",
    "fig['layout']['xaxis2'].update(title='price of the property (in million)', range=[0, 5000000], showgrid=False, type='linear')\n",
    "\n",
    "fig['layout']['yaxis1'].update(showgrid=False, type='linear')\n",
    "fig['layout']['yaxis2'].update(title='Probability (x10^3)', showgrid=False, type='linear')\n",
    "\n",
    "# Finally plot the figure\n",
    "fig['layout'].update(layout, height=450, width=2000)\n",
    "\n",
    "py.iplot(fig, filename='histogram-prob-dist')"
   ]
  },
  {
   "cell_type": "markdown",
   "metadata": {},
   "source": [
    "Please write down the **two** most interesting findings that you draw from the plots. \n",
    "\n",
    "**Findings**\n",
    "1. Initially it can be seen from the strata plot that the previous land price has higher number of strata type properties built in the range of approx, 0-0.6 million. But, there is a transition after the point- approx above 0.6 million. This depicts that Current price has more number of strata type properties than previous price in the range above 0.6million (approx).\n",
    "2. The second plot based on land and with probability on the yaxis, depicts that the probability of a property built being of legal type 'land', which has a price falling in the 'mid range' of 1-2Million is almost 1 for both previous and current price. Further, in the price range of 2-3Million we can see that- many a times when current price has a higher probability over previous price."
   ]
  },
  {
   "cell_type": "markdown",
   "metadata": {},
   "source": [
    "### Question 10. Use EDA to answer interesting questions (2)"
   ]
  },
  {
   "cell_type": "markdown",
   "metadata": {},
   "source": [
    "Although the housing price of the entire Vancouver area is increasing, there might be some areas whose housing price is decreasing. To answer this question, we need to consider another column -- `PROPERTY_POSTAL_CODE`.\n",
    "\n",
    "`PROPERTY_POSTAL_CODE` (e.g., \"V5A 1S6\") is a six-character string with a space separating the third and fourth characters. We use the first three characters to represent an *area*. \n",
    "\n",
    "We first filter out the areas which have less than 10 properties. For each of the remaining areas, we calculate the percentage of the properties whose price has decreased compared to the last year. For example, if an area \"V5A\" has 50 properties, and 30 of them have decreased, then the percentage is 60%.\n",
    "\n",
    "Please write code to find the top-10 areas with the highest percentages. Create a bar chart to visualize them. "
   ]
  },
  {
   "cell_type": "code",
   "execution_count": 8,
   "metadata": {
    "scrolled": true
   },
   "outputs": [
    {
     "name": "stderr",
     "output_type": "stream",
     "text": [
      "/anaconda3/lib/python3.7/site-packages/ipykernel_launcher.py:13: UserWarning:\n",
      "\n",
      "Boolean Series key will be reindexed to match DataFrame index.\n",
      "\n"
     ]
    },
    {
     "data": {
      "application/vnd.plotly.v1+json": {
       "config": {
        "linkText": "Export to plot.ly",
        "plotlyServerURL": "https://plot.ly",
        "showLink": false
       },
       "data": [
        {
         "marker": {
          "color": "palevioletred"
         },
         "name": "V6S",
         "opacity": 0.85,
         "text": "Percent decrease in property price",
         "type": "bar",
         "uid": "3afaa9a5-8489-4f85-92ce-bd0c1aec188b",
         "width": 0.1,
         "x": [
          0.1
         ],
         "y": [
          84.309695101062
         ]
        },
        {
         "marker": {
          "color": "rosybrown"
         },
         "name": "V6L",
         "opacity": 0.85,
         "text": "Percent decrease in property price",
         "type": "bar",
         "uid": "77b0e69b-c427-43be-a0a4-3997bef771ad",
         "width": 0.1,
         "x": [
          0.3
         ],
         "y": [
          79.6008218373936
         ]
        },
        {
         "marker": {
          "color": "salmon"
         },
         "name": "V6N",
         "opacity": 0.85,
         "text": "Percent decrease in property price",
         "type": "bar",
         "uid": "7c1e61d1-dc88-4561-9ac9-de6be96734ec",
         "width": 0.1,
         "x": [
          0.5
         ],
         "y": [
          62.172373081463995
         ]
        },
        {
         "marker": {
          "color": "pink"
         },
         "name": "V6R",
         "opacity": 0.85,
         "text": "Percent decrease in property price",
         "type": "bar",
         "uid": "be826f41-4eb2-4e5f-b439-b7b7a0bfc365",
         "width": 0.1,
         "x": [
          0.7
         ],
         "y": [
          61.15796302302952
         ]
        },
        {
         "marker": {
          "color": "lightskyblue"
         },
         "name": "V5W",
         "opacity": 0.85,
         "text": "Percent decrease in property price",
         "type": "bar",
         "uid": "17087e20-c8ff-452b-b9cb-1d55b8f9e68d",
         "width": 0.1,
         "x": [
          0.9
         ],
         "y": [
          61.018363939899835
         ]
        },
        {
         "marker": {
          "color": "lightgreen"
         },
         "name": "V5P",
         "opacity": 0.85,
         "text": "Percent decrease in property price",
         "type": "bar",
         "uid": "f940ce45-edff-4601-abf8-1a6824110ee9",
         "width": 0.1,
         "x": [
          1.1
         ],
         "y": [
          60.234968901174845
         ]
        },
        {
         "marker": {
          "color": "paleturquoise"
         },
         "name": "V5M",
         "opacity": 1,
         "text": "Percent decrease in property price",
         "type": "bar",
         "uid": "821a80f3-9b33-4542-a466-ef30aa00bdf7",
         "width": 0.1,
         "x": [
          1.3
         ],
         "y": [
          41.689879294336116
         ]
        },
        {
         "marker": {
          "color": "lightseagreen"
         },
         "name": "V5S",
         "opacity": 0.85,
         "text": "Percent decrease in property price",
         "type": "bar",
         "uid": "722feabd-b577-4916-a7f7-b0ce172c399e",
         "width": 0.1,
         "x": [
          1.5
         ],
         "y": [
          40.21675454012888
         ]
        },
        {
         "marker": {
          "color": "lavender"
         },
         "name": "V5X",
         "opacity": 0.85,
         "text": "Percent decrease in property price",
         "type": "bar",
         "uid": "0d4a1d48-2b2e-4ab5-8846-f317df3d2e52",
         "width": 0.1,
         "x": [
          1.7
         ],
         "y": [
          40.19463285166617
         ]
        },
        {
         "marker": {
          "color": "purple"
         },
         "name": "V6M",
         "opacity": 0.6,
         "text": "Percent decrease in property price",
         "type": "bar",
         "uid": "85399af5-bcc3-47f0-8d18-c22efe55061e",
         "width": 0.1,
         "x": [
          1.9
         ],
         "y": [
          40.0080337417152
         ]
        }
       ],
       "layout": {
        "legend": {
         "bgcolor": "lightgray",
         "bordercolor": "gray",
         "borderwidth": 2
        },
        "showlegend": true,
        "title": {
         "text": "Top 10 areas which have the highest drop in property price"
        },
        "xaxis": {
         "linecolor": "#636363",
         "linewidth": 6,
         "mirror": true,
         "range": [
          0,
          2
         ],
         "showline": true,
         "tick0": 0,
         "tickmode": "array",
         "ticks": "outside",
         "ticktext": [
          "V6S",
          "V6L",
          "V6N",
          "V6R",
          "V5W",
          "V5P",
          "V5M",
          "V5S",
          "V5X",
          "V6M"
         ],
         "tickvals": [
          0.1,
          0.3,
          0.5,
          0.7,
          0.9,
          1.1,
          1.3,
          1.5,
          1.7,
          1.9
         ],
         "title": {
          "text": "Area Code"
         },
         "zeroline": true,
         "zerolinecolor": "#969696",
         "zerolinewidth": 2
        },
        "yaxis": {
         "gridcolor": "#bdbdbd",
         "gridwidth": 1,
         "linecolor": "#636363",
         "linewidth": 6,
         "mirror": true,
         "range": [
          0,
          100
         ],
         "showgrid": true,
         "showline": true,
         "title": {
          "text": "Percentage Decrease (%)"
         },
         "zeroline": true,
         "zerolinecolor": "#969696",
         "zerolinewidth": 2
        }
       }
      },
      "text/html": [
       "<div id=\"409333f1-6871-4a1d-91eb-47ef165718f9\" style=\"height: 525px; width: 100%;\" class=\"plotly-graph-div\"></div><script type=\"text/javascript\">require([\"plotly\"], function(Plotly) { window.PLOTLYENV=window.PLOTLYENV || {};window.PLOTLYENV.BASE_URL=\"https://plot.ly\";Plotly.newPlot(\"409333f1-6871-4a1d-91eb-47ef165718f9\", [{\"marker\": {\"color\": \"palevioletred\"}, \"name\": \"V6S\", \"opacity\": 0.85, \"text\": \"Percent decrease in property price\", \"width\": 0.1, \"x\": [0.1], \"y\": [84.309695101062], \"type\": \"bar\", \"uid\": \"965a3329-2030-42f7-b173-be609e13ab25\"}, {\"marker\": {\"color\": \"rosybrown\"}, \"name\": \"V6L\", \"opacity\": 0.85, \"text\": \"Percent decrease in property price\", \"width\": 0.1, \"x\": [0.3], \"y\": [79.6008218373936], \"type\": \"bar\", \"uid\": \"79d22b8f-a58a-4f33-a793-b0a87d5cf57a\"}, {\"marker\": {\"color\": \"salmon\"}, \"name\": \"V6N\", \"opacity\": 0.85, \"text\": \"Percent decrease in property price\", \"width\": 0.1, \"x\": [0.5], \"y\": [62.172373081463995], \"type\": \"bar\", \"uid\": \"70026eff-c49e-43c8-86a6-588e11e0a89b\"}, {\"marker\": {\"color\": \"pink\"}, \"name\": \"V6R\", \"opacity\": 0.85, \"text\": \"Percent decrease in property price\", \"width\": 0.1, \"x\": [0.7], \"y\": [61.15796302302952], \"type\": \"bar\", \"uid\": \"013cdbe2-6578-4c3d-b636-3bfb1d7b48ed\"}, {\"marker\": {\"color\": \"lightskyblue\"}, \"name\": \"V5W\", \"opacity\": 0.85, \"text\": \"Percent decrease in property price\", \"width\": 0.1, \"x\": [0.9], \"y\": [61.018363939899835], \"type\": \"bar\", \"uid\": \"34a459fc-fef7-4027-bfdb-924769c924fa\"}, {\"marker\": {\"color\": \"lightgreen\"}, \"name\": \"V5P\", \"opacity\": 0.85, \"text\": \"Percent decrease in property price\", \"width\": 0.1, \"x\": [1.1], \"y\": [60.234968901174845], \"type\": \"bar\", \"uid\": \"1e71f156-f05b-4b99-bd8b-ef33134bea16\"}, {\"marker\": {\"color\": \"paleturquoise\"}, \"name\": \"V5M\", \"opacity\": 1, \"text\": \"Percent decrease in property price\", \"width\": 0.1, \"x\": [1.3], \"y\": [41.689879294336116], \"type\": \"bar\", \"uid\": \"d825aadc-f1e0-4377-8548-21e5a4603487\"}, {\"marker\": {\"color\": \"lightseagreen\"}, \"name\": \"V5S\", \"opacity\": 0.85, \"text\": \"Percent decrease in property price\", \"width\": 0.1, \"x\": [1.5], \"y\": [40.21675454012888], \"type\": \"bar\", \"uid\": \"648f6d78-4d27-433d-9d2a-27e11cc21f11\"}, {\"marker\": {\"color\": \"lavender\"}, \"name\": \"V5X\", \"opacity\": 0.85, \"text\": \"Percent decrease in property price\", \"width\": 0.1, \"x\": [1.7], \"y\": [40.19463285166617], \"type\": \"bar\", \"uid\": \"58f9fae8-416c-4431-aa1b-be430effe8bb\"}, {\"marker\": {\"color\": \"purple\"}, \"name\": \"V6M\", \"opacity\": 0.6, \"text\": \"Percent decrease in property price\", \"width\": 0.1, \"x\": [1.9], \"y\": [40.0080337417152], \"type\": \"bar\", \"uid\": \"d0aa0ef5-177f-4df2-b557-ce2e5f63e6aa\"}], {\"legend\": {\"bgcolor\": \"lightgray\", \"bordercolor\": \"gray\", \"borderwidth\": 2}, \"showlegend\": true, \"title\": {\"text\": \"Top 10 areas which have the highest drop in property price\"}, \"xaxis\": {\"linecolor\": \"#636363\", \"linewidth\": 6, \"mirror\": true, \"range\": [0, 2], \"showline\": true, \"tick0\": 0, \"tickmode\": \"array\", \"ticks\": \"outside\", \"ticktext\": [\"V6S\", \"V6L\", \"V6N\", \"V6R\", \"V5W\", \"V5P\", \"V5M\", \"V5S\", \"V5X\", \"V6M\"], \"tickvals\": [0.1, 0.3, 0.5, 0.7, 0.9, 1.1, 1.3, 1.5, 1.7, 1.9], \"title\": {\"text\": \"Area Code\"}, \"zeroline\": true, \"zerolinecolor\": \"#969696\", \"zerolinewidth\": 2}, \"yaxis\": {\"gridcolor\": \"#bdbdbd\", \"gridwidth\": 1, \"linecolor\": \"#636363\", \"linewidth\": 6, \"mirror\": true, \"range\": [0, 100], \"showgrid\": true, \"showline\": true, \"title\": {\"text\": \"Percentage Decrease (%)\"}, \"zeroline\": true, \"zerolinecolor\": \"#969696\", \"zerolinewidth\": 2}}, {\"showLink\": false, \"linkText\": \"Export to plot.ly\", \"plotlyServerURL\": \"https://plot.ly\"})});</script><script type=\"text/javascript\">window.addEventListener(\"resize\", function(){window._Plotly.Plots.resize(document.getElementById(\"409333f1-6871-4a1d-91eb-47ef165718f9\"));});</script>"
      ],
      "text/vnd.plotly.v1+html": [
       "<div id=\"409333f1-6871-4a1d-91eb-47ef165718f9\" style=\"height: 525px; width: 100%;\" class=\"plotly-graph-div\"></div><script type=\"text/javascript\">require([\"plotly\"], function(Plotly) { window.PLOTLYENV=window.PLOTLYENV || {};window.PLOTLYENV.BASE_URL=\"https://plot.ly\";Plotly.newPlot(\"409333f1-6871-4a1d-91eb-47ef165718f9\", [{\"marker\": {\"color\": \"palevioletred\"}, \"name\": \"V6S\", \"opacity\": 0.85, \"text\": \"Percent decrease in property price\", \"width\": 0.1, \"x\": [0.1], \"y\": [84.309695101062], \"type\": \"bar\", \"uid\": \"965a3329-2030-42f7-b173-be609e13ab25\"}, {\"marker\": {\"color\": \"rosybrown\"}, \"name\": \"V6L\", \"opacity\": 0.85, \"text\": \"Percent decrease in property price\", \"width\": 0.1, \"x\": [0.3], \"y\": [79.6008218373936], \"type\": \"bar\", \"uid\": \"79d22b8f-a58a-4f33-a793-b0a87d5cf57a\"}, {\"marker\": {\"color\": \"salmon\"}, \"name\": \"V6N\", \"opacity\": 0.85, \"text\": \"Percent decrease in property price\", \"width\": 0.1, \"x\": [0.5], \"y\": [62.172373081463995], \"type\": \"bar\", \"uid\": \"70026eff-c49e-43c8-86a6-588e11e0a89b\"}, {\"marker\": {\"color\": \"pink\"}, \"name\": \"V6R\", \"opacity\": 0.85, \"text\": \"Percent decrease in property price\", \"width\": 0.1, \"x\": [0.7], \"y\": [61.15796302302952], \"type\": \"bar\", \"uid\": \"013cdbe2-6578-4c3d-b636-3bfb1d7b48ed\"}, {\"marker\": {\"color\": \"lightskyblue\"}, \"name\": \"V5W\", \"opacity\": 0.85, \"text\": \"Percent decrease in property price\", \"width\": 0.1, \"x\": [0.9], \"y\": [61.018363939899835], \"type\": \"bar\", \"uid\": \"34a459fc-fef7-4027-bfdb-924769c924fa\"}, {\"marker\": {\"color\": \"lightgreen\"}, \"name\": \"V5P\", \"opacity\": 0.85, \"text\": \"Percent decrease in property price\", \"width\": 0.1, \"x\": [1.1], \"y\": [60.234968901174845], \"type\": \"bar\", \"uid\": \"1e71f156-f05b-4b99-bd8b-ef33134bea16\"}, {\"marker\": {\"color\": \"paleturquoise\"}, \"name\": \"V5M\", \"opacity\": 1, \"text\": \"Percent decrease in property price\", \"width\": 0.1, \"x\": [1.3], \"y\": [41.689879294336116], \"type\": \"bar\", \"uid\": \"d825aadc-f1e0-4377-8548-21e5a4603487\"}, {\"marker\": {\"color\": \"lightseagreen\"}, \"name\": \"V5S\", \"opacity\": 0.85, \"text\": \"Percent decrease in property price\", \"width\": 0.1, \"x\": [1.5], \"y\": [40.21675454012888], \"type\": \"bar\", \"uid\": \"648f6d78-4d27-433d-9d2a-27e11cc21f11\"}, {\"marker\": {\"color\": \"lavender\"}, \"name\": \"V5X\", \"opacity\": 0.85, \"text\": \"Percent decrease in property price\", \"width\": 0.1, \"x\": [1.7], \"y\": [40.19463285166617], \"type\": \"bar\", \"uid\": \"58f9fae8-416c-4431-aa1b-be430effe8bb\"}, {\"marker\": {\"color\": \"purple\"}, \"name\": \"V6M\", \"opacity\": 0.6, \"text\": \"Percent decrease in property price\", \"width\": 0.1, \"x\": [1.9], \"y\": [40.0080337417152], \"type\": \"bar\", \"uid\": \"d0aa0ef5-177f-4df2-b557-ce2e5f63e6aa\"}], {\"legend\": {\"bgcolor\": \"lightgray\", \"bordercolor\": \"gray\", \"borderwidth\": 2}, \"showlegend\": true, \"title\": {\"text\": \"Top 10 areas which have the highest drop in property price\"}, \"xaxis\": {\"linecolor\": \"#636363\", \"linewidth\": 6, \"mirror\": true, \"range\": [0, 2], \"showline\": true, \"tick0\": 0, \"tickmode\": \"array\", \"ticks\": \"outside\", \"ticktext\": [\"V6S\", \"V6L\", \"V6N\", \"V6R\", \"V5W\", \"V5P\", \"V5M\", \"V5S\", \"V5X\", \"V6M\"], \"tickvals\": [0.1, 0.3, 0.5, 0.7, 0.9, 1.1, 1.3, 1.5, 1.7, 1.9], \"title\": {\"text\": \"Area Code\"}, \"zeroline\": true, \"zerolinecolor\": \"#969696\", \"zerolinewidth\": 2}, \"yaxis\": {\"gridcolor\": \"#bdbdbd\", \"gridwidth\": 1, \"linecolor\": \"#636363\", \"linewidth\": 6, \"mirror\": true, \"range\": [0, 100], \"showgrid\": true, \"showline\": true, \"title\": {\"text\": \"Percentage Decrease (%)\"}, \"zeroline\": true, \"zerolinecolor\": \"#969696\", \"zerolinewidth\": 2}}, {\"showLink\": false, \"linkText\": \"Export to plot.ly\", \"plotlyServerURL\": \"https://plot.ly\"})});</script><script type=\"text/javascript\">window.addEventListener(\"resize\", function(){window._Plotly.Plots.resize(document.getElementById(\"409333f1-6871-4a1d-91eb-47ef165718f9\"));});</script>"
      ]
     },
     "metadata": {},
     "output_type": "display_data"
    }
   ],
   "source": [
    "# --- Write your code below ---\n",
    "import numpy as np\n",
    "import plotly.plotly as py\n",
    "import plotly.graph_objs as go\n",
    "from plotly.tools import FigureFactory as FF\n",
    "\n",
    "def compute_perdec(df):\n",
    "    df8 = df.copy()\n",
    "    df8 = df8.dropna(subset=['PROPERTY_POSTAL_CODE'])\n",
    "    df8['PROPERTY_POSTAL_CODE'] = df8['PROPERTY_POSTAL_CODE'].str.split(' ').str[0]\n",
    "    df8 = df8.groupby(df8['PROPERTY_POSTAL_CODE']).filter(lambda x: len(x) >= 10)\n",
    "    area_full = df8.groupby(df8['PROPERTY_POSTAL_CODE']).PROPERTY_POSTAL_CODE.size()\n",
    "    area = df8[(df8['CURRENT_PRICE']-df['PREVIOUS_PRICE'])<0].groupby(df8['PROPERTY_POSTAL_CODE']).PROPERTY_POSTAL_CODE.size()\n",
    "\n",
    "    percentage_decreased = (area/area_full)\n",
    "    # print(percentage_decreased)\n",
    "\n",
    "    index = area.index\n",
    "    # print(index)\n",
    "\n",
    "    sorted_top10 = -np.sort(-percentage_decreased)[0:10]*100\n",
    "    # print(sorted_top10, percentage_decreased[0])\n",
    "\n",
    "    top10= []\n",
    "    for i in range(len(sorted_top10)):\n",
    "        for j in range(len(percentage_decreased)):\n",
    "            if sorted_top10[i] == percentage_decreased[j]*100:\n",
    "                top10.append(percentage_decreased.index[j])\n",
    "    # print(top10)\n",
    "    \n",
    "    return sorted_top10, top10\n",
    "    \n",
    "def plot(sorted_top10, top10):\n",
    "    # Create plot data\n",
    "    trace0 = go.Bar(\n",
    "        y=[sorted_top10[0]],\n",
    "        x=[0.1],\n",
    "        name=str(top10[0]),\n",
    "        text='Percent decrease in property price',\n",
    "        marker=dict(\n",
    "            color='palevioletred',\n",
    "        ),\n",
    "        opacity=0.85,\n",
    "        width=0.1\n",
    "    )\n",
    "\n",
    "    trace1 = go.Bar(\n",
    "        y=[sorted_top10[1]],\n",
    "        x=[0.3],\n",
    "        name=str(top10[1]),\n",
    "        text='Percent decrease in property price',\n",
    "        marker=dict(\n",
    "            color='rosybrown',\n",
    "        ),\n",
    "        opacity=0.85,\n",
    "        width=0.1\n",
    "    )\n",
    "\n",
    "    trace2 = go.Bar(\n",
    "        y=[sorted_top10[2]],\n",
    "        x=[0.5],\n",
    "        name=str(top10[2]),\n",
    "        text='Percent decrease in property price',\n",
    "        marker=dict(\n",
    "            color='salmon',\n",
    "        ),\n",
    "        opacity=0.85,\n",
    "        width=0.1\n",
    "    )\n",
    "\n",
    "    trace3 = go.Bar(\n",
    "        y=[sorted_top10[3]],\n",
    "        x=[0.7],\n",
    "        name=str(top10[3]),\n",
    "        text='Percent decrease in property price',\n",
    "        marker=dict(\n",
    "            color='pink',\n",
    "        ),\n",
    "        opacity=0.85,\n",
    "        width=0.1\n",
    "    )\n",
    "\n",
    "    trace4 = go.Bar(\n",
    "        y=[sorted_top10[4]],\n",
    "        x=[0.9],\n",
    "        name=str(top10[4]),\n",
    "        text='Percent decrease in property price',\n",
    "        marker=dict(\n",
    "            color='lightskyblue',\n",
    "        ),\n",
    "        opacity=0.85,\n",
    "        width=0.1\n",
    "    )\n",
    "\n",
    "    trace5 = go.Bar(\n",
    "        y=[sorted_top10[5]],\n",
    "        x=[1.1],\n",
    "        name=str(top10[5]),\n",
    "        text='Percent decrease in property price',\n",
    "        marker=dict(\n",
    "            color='lightgreen',\n",
    "        ),\n",
    "        opacity=0.85,\n",
    "        width=0.1\n",
    "    )\n",
    "\n",
    "    trace6 = go.Bar(\n",
    "        y=[sorted_top10[6]],\n",
    "        x=[1.3],\n",
    "        name=str(top10[6]),\n",
    "        text='Percent decrease in property price',\n",
    "        marker=dict(\n",
    "            color='paleturquoise',\n",
    "        ),\n",
    "        opacity=1,\n",
    "        width=0.1\n",
    "    )\n",
    "\n",
    "    trace7 = go.Bar(\n",
    "        y=[sorted_top10[7]],\n",
    "        x=[1.5],\n",
    "        name=str(top10[7]),\n",
    "        text='Percent decrease in property price',\n",
    "        marker=dict(\n",
    "            color='lightseagreen',\n",
    "        ),\n",
    "        opacity=0.85,\n",
    "        width=0.1\n",
    "    )\n",
    "\n",
    "    trace8 = go.Bar(\n",
    "        y=[sorted_top10[8]],\n",
    "        x=[1.7],\n",
    "        name=str(top10[8]),\n",
    "        text='Percent decrease in property price',\n",
    "        marker=dict(\n",
    "            color='lavender',\n",
    "        ),\n",
    "        opacity=0.85,\n",
    "        width=0.1\n",
    "    )\n",
    "\n",
    "    trace9 = go.Bar(\n",
    "        y=[sorted_top10[9]],\n",
    "        x=[1.9],\n",
    "        name=str(top10[9]),\n",
    "        text='Percent decrease in property price',\n",
    "        marker=dict(\n",
    "            color='purple',\n",
    "        ),\n",
    "        opacity=0.6,\n",
    "        width=0.1\n",
    "    )\n",
    "\n",
    "    # Create the layout for the plot\n",
    "    layout = dict(title = 'Top 10 areas which have the highest drop in property price',\n",
    "              xaxis=go.layout.XAxis(title='Area Code',\n",
    "                        zeroline=True,\n",
    "                        showline=True,\n",
    "                        mirror=True,\n",
    "                        tick0=0,\n",
    "                        tickmode='array',\n",
    "                        ticktext=top10,\n",
    "                        tickvals=[0.1,0.3,0.5,0.7,0.9,1.1,1.3,1.5,1.7,1.9],\n",
    "                        ticks='outside',\n",
    "                        zerolinecolor='#969696',\n",
    "                        zerolinewidth=2,\n",
    "                        linecolor='#636363',\n",
    "                        linewidth=6,\n",
    "                        range=[0, 2]\n",
    "                    ),\n",
    "              yaxis = dict(title = 'Percentage Decrease (%)',\n",
    "                        showgrid=True,\n",
    "                        zeroline=True,\n",
    "                        showline=True,\n",
    "                        mirror=True,\n",
    "                        gridcolor='#bdbdbd',\n",
    "                        gridwidth=1,\n",
    "                        zerolinecolor='#969696',\n",
    "                        zerolinewidth=2,\n",
    "                        linecolor='#636363',\n",
    "                        linewidth=6,\n",
    "                        range = [0, 100]\n",
    "                    ),\n",
    "              showlegend=True,\n",
    "              legend=dict(bgcolor='lightgray',\n",
    "                        bordercolor='gray',\n",
    "                        borderwidth=2\n",
    "                    )\n",
    "              )\n",
    "    \n",
    "    # Combine the plot data with the layout designed for it, into a single figure\n",
    "    data = [trace0, trace1, trace2, trace3, trace4, trace5, trace6, trace7, trace8, trace9]\n",
    "    fig = dict(data=data, layout=layout)\n",
    "\n",
    "    # IPython notebook- show plot\n",
    "    iplot(fig, filename='bar-plot')\n",
    "\n",
    "def main():\n",
    "    sorted_top10, top10 = compute_perdec(df)\n",
    "    plot(sorted_top10, top10)\n",
    "\n",
    "# call the methods\n",
    "main()"
   ]
  },
  {
   "cell_type": "markdown",
   "metadata": {},
   "source": [
    "Please write down the **two** most interesting findings that you draw from the plot. \n",
    "\n",
    "**Findings**\n",
    "1. The top 4 area codes all begin with 'V6' (the 3rd letter/alphabet as well belongs to the latter half of the alphabetical series), which can potentially indicate that the broader area that is denoted by V6 is facing a drop in property  price due to some common factor. And, 'V6S' has the most percent drop in property price at 84.3%.\n",
    "2. Except for the top  2 areas, the remaining 8 can be grouped into groups of 4 each- with V6N, V6R, V5W & V5P falling into one group that has approx percent drop around 61% and with V5M, V5S, V5X and V6M falling into the other with percent drop around approx 40.2%."
   ]
  },
  {
   "cell_type": "markdown",
   "metadata": {},
   "source": [
    "### Question 11. Come up with your own question."
   ]
  },
  {
   "cell_type": "markdown",
   "metadata": {},
   "source": [
    "*You need to complete the following three tasks.*\n",
    "\n",
    "Firstly, please come up with an interesting question on your own (like Q9 and Q10). \n",
    "\n",
    "**A short description of the question:**\n",
    "In the last plot we have explored the percentage decrease in property price based on 'LEGAL_TYPE', but is LEGAL_TYPE the only means by which we can explore the type of property based on the difference between CURRENT_PRICE and PREVIOUS_PRICE? Certainly not!\n",
    "\n",
    "Let us now explore the Percentage Increase in Property Value based on the 'ZONE_CATEGORY'. If we carefully group the data, we will get to know that there are 9 different 'ZONE_CATEGORY' values. Let us find the percentage increase in property value for each of the 9 distinct categories and plot the same (drop NaN values). \n",
    "\n",
    "Why percentage increase here and not decrease like we did for 'LEGAL_TYPE'?: good question, the answer is because under careful exploration one can find that the perect increase in property value is significatntly high, which means the decrease is obviously the opposite! So, this calls for a better way to represent the data points, I feel!"
   ]
  },
  {
   "cell_type": "markdown",
   "metadata": {},
   "source": [
    "Secondly, please write code so that the output of your code can answer the question."
   ]
  },
  {
   "cell_type": "code",
   "execution_count": 9,
   "metadata": {},
   "outputs": [
    {
     "data": {
      "application/vnd.plotly.v1+json": {
       "config": {
        "linkText": "Export to plot.ly",
        "plotlyServerURL": "https://plot.ly",
        "showLink": false
       },
       "data": [
        {
         "marker": {
          "color": "palevioletred"
         },
         "name": "Commercial",
         "opacity": 0.85,
         "text": "Percent increase in property price",
         "type": "bar",
         "uid": "92ddc806-fb7e-4abf-b73d-7cd6d3df50ae",
         "width": 0.1,
         "x": [
          0.1
         ],
         "y": [
          96.53072625698323
         ]
        },
        {
         "marker": {
          "color": "rosybrown"
         },
         "name": "Comprehensive Development",
         "opacity": 0.85,
         "text": "Percent increase in property price",
         "type": "bar",
         "uid": "de4e1da1-d1d4-4a62-8ceb-836fb6b4785b",
         "width": 0.1,
         "x": [
          0.3
         ],
         "y": [
          97.373701605288
         ]
        },
        {
         "marker": {
          "color": "salmon"
         },
         "name": "Historic Area",
         "opacity": 0.85,
         "text": "Percent increase in property price",
         "type": "bar",
         "uid": "fe0eca42-01c3-4925-a29a-150c81406da2",
         "width": 0.1,
         "x": [
          0.5
         ],
         "y": [
          98.6
         ]
        },
        {
         "marker": {
          "color": "pink"
         },
         "name": "Industrial",
         "opacity": 0.85,
         "text": "Percent increase in property price",
         "type": "bar",
         "uid": "650ad5fb-35c6-48c5-88e4-a7dad5969dd1",
         "width": 0.1,
         "x": [
          0.7
         ],
         "y": [
          97.73242630385488
         ]
        },
        {
         "marker": {
          "color": "lightskyblue"
         },
         "name": "Light Industrial",
         "opacity": 0.85,
         "text": "Percent increase in property price",
         "type": "bar",
         "uid": "75b42bd5-d77c-4470-baa8-cb0f87588223",
         "width": 0.1,
         "x": [
          0.9
         ],
         "y": [
          91.22023809523809
         ]
        },
        {
         "marker": {
          "color": "lightgreen"
         },
         "name": "Limited Agricultural",
         "opacity": 0.85,
         "text": "Percent increase in property price",
         "type": "bar",
         "uid": "d252ac89-dc6b-4fee-bf7b-2c85cdeae331",
         "width": 0.1,
         "x": [
          1.1
         ],
         "y": [
          96.34146341463415
         ]
        },
        {
         "marker": {
          "color": "paleturquoise"
         },
         "name": "Multiple Family Dwelling",
         "opacity": 1,
         "text": "Percent increase in property price",
         "type": "bar",
         "uid": "3e95a723-84b2-4a0f-a9bd-5c570116c72a",
         "width": 0.1,
         "x": [
          1.3
         ],
         "y": [
          96.60030739954621
         ]
        },
        {
         "marker": {
          "color": "lightseagreen"
         },
         "name": "One Family Dwelling",
         "opacity": 0.85,
         "text": "Percent increase in property price",
         "type": "bar",
         "uid": "3e223758-dce7-430b-a77f-b01b7a815570",
         "width": 0.1,
         "x": [
          1.5
         ],
         "y": [
          42.868421052631575
         ]
        },
        {
         "marker": {
          "color": "lavender"
         },
         "name": "Two Family Dwelling",
         "opacity": 0.85,
         "text": "Percent increase in property price",
         "type": "bar",
         "uid": "a08d048a-d3a7-4174-b0e0-e639078c3f29",
         "width": 0.1,
         "x": [
          1.7
         ],
         "y": [
          70.74493323391853
         ]
        }
       ],
       "layout": {
        "legend": {
         "bgcolor": "lightgray",
         "bordercolor": "gray",
         "borderwidth": 2
        },
        "showlegend": true,
        "title": {
         "text": "Percentage increase in Property price based on zone category"
        },
        "xaxis": {
         "linecolor": "#636363",
         "linewidth": 6,
         "mirror": true,
         "range": [
          0,
          2
         ],
         "showline": true,
         "tick0": 0,
         "tickangle": 22,
         "tickfont": {
          "family": "Old Standard TT, serif",
          "size": 11.5
         },
         "tickmode": "array",
         "ticks": "outside",
         "ticktext": [
          "Commercial",
          "Comprehensive Development",
          "Historic Area",
          "Industrial",
          "Light Industrial",
          "Limited Agricultural",
          "Multiple Family Dwelling",
          "One Family Dwelling",
          "Two Family Dwelling"
         ],
         "tickvals": [
          0.1,
          0.3,
          0.5,
          0.7,
          0.9,
          1.1,
          1.3,
          1.5,
          1.7
         ],
         "title": {
          "text": "Zone Category"
         },
         "zeroline": true,
         "zerolinecolor": "#969696",
         "zerolinewidth": 2
        },
        "yaxis": {
         "gridcolor": "#bdbdbd",
         "gridwidth": 1,
         "linecolor": "#636363",
         "linewidth": 6,
         "mirror": true,
         "range": [
          0,
          100
         ],
         "showline": true,
         "title": {
          "text": "Percentage Increase (%)"
         },
         "zeroline": true,
         "zerolinecolor": "#969696",
         "zerolinewidth": 2
        }
       }
      },
      "text/html": [
       "<div id=\"bd12c961-c866-42e9-a4b0-daffe08a81c8\" style=\"height: 525px; width: 100%;\" class=\"plotly-graph-div\"></div><script type=\"text/javascript\">require([\"plotly\"], function(Plotly) { window.PLOTLYENV=window.PLOTLYENV || {};window.PLOTLYENV.BASE_URL=\"https://plot.ly\";Plotly.newPlot(\"bd12c961-c866-42e9-a4b0-daffe08a81c8\", [{\"marker\": {\"color\": \"palevioletred\"}, \"name\": \"Commercial\", \"opacity\": 0.85, \"text\": \"Percent increase in property price\", \"width\": 0.1, \"x\": [0.1], \"y\": [96.53072625698323], \"type\": \"bar\", \"uid\": \"8640ce3d-9941-4c92-b95d-05a3fd30d1b4\"}, {\"marker\": {\"color\": \"rosybrown\"}, \"name\": \"Comprehensive Development\", \"opacity\": 0.85, \"text\": \"Percent increase in property price\", \"width\": 0.1, \"x\": [0.3], \"y\": [97.373701605288], \"type\": \"bar\", \"uid\": \"de7906de-f980-49f0-abe0-50c6456f8572\"}, {\"marker\": {\"color\": \"salmon\"}, \"name\": \"Historic Area\", \"opacity\": 0.85, \"text\": \"Percent increase in property price\", \"width\": 0.1, \"x\": [0.5], \"y\": [98.6], \"type\": \"bar\", \"uid\": \"8e5a0db8-9b4f-4313-a8ea-28b2d48489e1\"}, {\"marker\": {\"color\": \"pink\"}, \"name\": \"Industrial\", \"opacity\": 0.85, \"text\": \"Percent increase in property price\", \"width\": 0.1, \"x\": [0.7], \"y\": [97.73242630385488], \"type\": \"bar\", \"uid\": \"717a3c25-a429-4384-981c-7224e1cf33d0\"}, {\"marker\": {\"color\": \"lightskyblue\"}, \"name\": \"Light Industrial\", \"opacity\": 0.85, \"text\": \"Percent increase in property price\", \"width\": 0.1, \"x\": [0.9], \"y\": [91.22023809523809], \"type\": \"bar\", \"uid\": \"5017b46b-d563-4669-a7ee-a9e9cac56daa\"}, {\"marker\": {\"color\": \"lightgreen\"}, \"name\": \"Limited Agricultural\", \"opacity\": 0.85, \"text\": \"Percent increase in property price\", \"width\": 0.1, \"x\": [1.1], \"y\": [96.34146341463415], \"type\": \"bar\", \"uid\": \"a76ee582-96cd-4b9c-b54b-420a8b8c7bd9\"}, {\"marker\": {\"color\": \"paleturquoise\"}, \"name\": \"Multiple Family Dwelling\", \"opacity\": 1, \"text\": \"Percent increase in property price\", \"width\": 0.1, \"x\": [1.3], \"y\": [96.60030739954621], \"type\": \"bar\", \"uid\": \"1a770d95-26db-4b20-ad26-6f2c3720fc0e\"}, {\"marker\": {\"color\": \"lightseagreen\"}, \"name\": \"One Family Dwelling\", \"opacity\": 0.85, \"text\": \"Percent increase in property price\", \"width\": 0.1, \"x\": [1.5], \"y\": [42.868421052631575], \"type\": \"bar\", \"uid\": \"cc36ad79-074d-4ae9-a2eb-4b410145b15e\"}, {\"marker\": {\"color\": \"lavender\"}, \"name\": \"Two Family Dwelling\", \"opacity\": 0.85, \"text\": \"Percent increase in property price\", \"width\": 0.1, \"x\": [1.7], \"y\": [70.74493323391853], \"type\": \"bar\", \"uid\": \"c74da156-b298-4be4-ade8-20c1c9a01d04\"}], {\"legend\": {\"bgcolor\": \"lightgray\", \"bordercolor\": \"gray\", \"borderwidth\": 2}, \"showlegend\": true, \"title\": {\"text\": \"Percentage increase in Property price based on zone category\"}, \"xaxis\": {\"linecolor\": \"#636363\", \"linewidth\": 6, \"mirror\": true, \"range\": [0, 2], \"showline\": true, \"tick0\": 0, \"tickangle\": 22, \"tickfont\": {\"family\": \"Old Standard TT, serif\", \"size\": 11.5}, \"tickmode\": \"array\", \"ticks\": \"outside\", \"ticktext\": [\"Commercial\", \"Comprehensive Development\", \"Historic Area\", \"Industrial\", \"Light Industrial\", \"Limited Agricultural\", \"Multiple Family Dwelling\", \"One Family Dwelling\", \"Two Family Dwelling\"], \"tickvals\": [0.1, 0.3, 0.5, 0.7, 0.9, 1.1, 1.3, 1.5, 1.7], \"title\": {\"text\": \"Zone Category\"}, \"zeroline\": true, \"zerolinecolor\": \"#969696\", \"zerolinewidth\": 2}, \"yaxis\": {\"gridcolor\": \"#bdbdbd\", \"gridwidth\": 1, \"linecolor\": \"#636363\", \"linewidth\": 6, \"mirror\": true, \"range\": [0, 100], \"showline\": true, \"title\": {\"text\": \"Percentage Increase (%)\"}, \"zeroline\": true, \"zerolinecolor\": \"#969696\", \"zerolinewidth\": 2}}, {\"showLink\": false, \"linkText\": \"Export to plot.ly\", \"plotlyServerURL\": \"https://plot.ly\"})});</script><script type=\"text/javascript\">window.addEventListener(\"resize\", function(){window._Plotly.Plots.resize(document.getElementById(\"bd12c961-c866-42e9-a4b0-daffe08a81c8\"));});</script>"
      ],
      "text/vnd.plotly.v1+html": [
       "<div id=\"bd12c961-c866-42e9-a4b0-daffe08a81c8\" style=\"height: 525px; width: 100%;\" class=\"plotly-graph-div\"></div><script type=\"text/javascript\">require([\"plotly\"], function(Plotly) { window.PLOTLYENV=window.PLOTLYENV || {};window.PLOTLYENV.BASE_URL=\"https://plot.ly\";Plotly.newPlot(\"bd12c961-c866-42e9-a4b0-daffe08a81c8\", [{\"marker\": {\"color\": \"palevioletred\"}, \"name\": \"Commercial\", \"opacity\": 0.85, \"text\": \"Percent increase in property price\", \"width\": 0.1, \"x\": [0.1], \"y\": [96.53072625698323], \"type\": \"bar\", \"uid\": \"8640ce3d-9941-4c92-b95d-05a3fd30d1b4\"}, {\"marker\": {\"color\": \"rosybrown\"}, \"name\": \"Comprehensive Development\", \"opacity\": 0.85, \"text\": \"Percent increase in property price\", \"width\": 0.1, \"x\": [0.3], \"y\": [97.373701605288], \"type\": \"bar\", \"uid\": \"de7906de-f980-49f0-abe0-50c6456f8572\"}, {\"marker\": {\"color\": \"salmon\"}, \"name\": \"Historic Area\", \"opacity\": 0.85, \"text\": \"Percent increase in property price\", \"width\": 0.1, \"x\": [0.5], \"y\": [98.6], \"type\": \"bar\", \"uid\": \"8e5a0db8-9b4f-4313-a8ea-28b2d48489e1\"}, {\"marker\": {\"color\": \"pink\"}, \"name\": \"Industrial\", \"opacity\": 0.85, \"text\": \"Percent increase in property price\", \"width\": 0.1, \"x\": [0.7], \"y\": [97.73242630385488], \"type\": \"bar\", \"uid\": \"717a3c25-a429-4384-981c-7224e1cf33d0\"}, {\"marker\": {\"color\": \"lightskyblue\"}, \"name\": \"Light Industrial\", \"opacity\": 0.85, \"text\": \"Percent increase in property price\", \"width\": 0.1, \"x\": [0.9], \"y\": [91.22023809523809], \"type\": \"bar\", \"uid\": \"5017b46b-d563-4669-a7ee-a9e9cac56daa\"}, {\"marker\": {\"color\": \"lightgreen\"}, \"name\": \"Limited Agricultural\", \"opacity\": 0.85, \"text\": \"Percent increase in property price\", \"width\": 0.1, \"x\": [1.1], \"y\": [96.34146341463415], \"type\": \"bar\", \"uid\": \"a76ee582-96cd-4b9c-b54b-420a8b8c7bd9\"}, {\"marker\": {\"color\": \"paleturquoise\"}, \"name\": \"Multiple Family Dwelling\", \"opacity\": 1, \"text\": \"Percent increase in property price\", \"width\": 0.1, \"x\": [1.3], \"y\": [96.60030739954621], \"type\": \"bar\", \"uid\": \"1a770d95-26db-4b20-ad26-6f2c3720fc0e\"}, {\"marker\": {\"color\": \"lightseagreen\"}, \"name\": \"One Family Dwelling\", \"opacity\": 0.85, \"text\": \"Percent increase in property price\", \"width\": 0.1, \"x\": [1.5], \"y\": [42.868421052631575], \"type\": \"bar\", \"uid\": \"cc36ad79-074d-4ae9-a2eb-4b410145b15e\"}, {\"marker\": {\"color\": \"lavender\"}, \"name\": \"Two Family Dwelling\", \"opacity\": 0.85, \"text\": \"Percent increase in property price\", \"width\": 0.1, \"x\": [1.7], \"y\": [70.74493323391853], \"type\": \"bar\", \"uid\": \"c74da156-b298-4be4-ade8-20c1c9a01d04\"}], {\"legend\": {\"bgcolor\": \"lightgray\", \"bordercolor\": \"gray\", \"borderwidth\": 2}, \"showlegend\": true, \"title\": {\"text\": \"Percentage increase in Property price based on zone category\"}, \"xaxis\": {\"linecolor\": \"#636363\", \"linewidth\": 6, \"mirror\": true, \"range\": [0, 2], \"showline\": true, \"tick0\": 0, \"tickangle\": 22, \"tickfont\": {\"family\": \"Old Standard TT, serif\", \"size\": 11.5}, \"tickmode\": \"array\", \"ticks\": \"outside\", \"ticktext\": [\"Commercial\", \"Comprehensive Development\", \"Historic Area\", \"Industrial\", \"Light Industrial\", \"Limited Agricultural\", \"Multiple Family Dwelling\", \"One Family Dwelling\", \"Two Family Dwelling\"], \"tickvals\": [0.1, 0.3, 0.5, 0.7, 0.9, 1.1, 1.3, 1.5, 1.7], \"title\": {\"text\": \"Zone Category\"}, \"zeroline\": true, \"zerolinecolor\": \"#969696\", \"zerolinewidth\": 2}, \"yaxis\": {\"gridcolor\": \"#bdbdbd\", \"gridwidth\": 1, \"linecolor\": \"#636363\", \"linewidth\": 6, \"mirror\": true, \"range\": [0, 100], \"showline\": true, \"title\": {\"text\": \"Percentage Increase (%)\"}, \"zeroline\": true, \"zerolinecolor\": \"#969696\", \"zerolinewidth\": 2}}, {\"showLink\": false, \"linkText\": \"Export to plot.ly\", \"plotlyServerURL\": \"https://plot.ly\"})});</script><script type=\"text/javascript\">window.addEventListener(\"resize\", function(){window._Plotly.Plots.resize(document.getElementById(\"bd12c961-c866-42e9-a4b0-daffe08a81c8\"));});</script>"
      ]
     },
     "metadata": {},
     "output_type": "display_data"
    }
   ],
   "source": [
    "# --- Write your code below ---\n",
    "from plotly import tools\n",
    "import plotly.plotly as py\n",
    "import plotly.graph_objs as go\n",
    "from plotly.tools import FigureFactory as FF\n",
    "from plotly.offline import download_plotlyjs, init_notebook_mode, plot, iplot\n",
    "\n",
    "def compute_perinc(df):\n",
    "    df13 = df.copy()\n",
    "    df13 = df13.dropna(subset=['ZONE_CATEGORY'])\n",
    "    zone_full = df13.groupby(df13['ZONE_CATEGORY']).ZONE_CATEGORY.size()\n",
    "    zone_increase = df13[(df13['CURRENT_PRICE']-df13['PREVIOUS_PRICE'])>0].groupby(df13['ZONE_CATEGORY']).ZONE_CATEGORY.size()\n",
    "    percentage_increased = (zone_increase/zone_full)*100\n",
    "#     print(percentage_increased)\n",
    "#     print(zone_increase)\n",
    "\n",
    "    index = zone_increase.index\n",
    "#     print(index)\n",
    "    \n",
    "    return  index, percentage_increased\n",
    "\n",
    "def plot(index, percentage_increased):\n",
    "    # Create plot data\n",
    "    trace0 = go.Bar(\n",
    "        y=[percentage_increased[0]],\n",
    "        x=[0.1],\n",
    "        name=str(index[0]),\n",
    "        text='Percent increase in property price',\n",
    "        marker=dict(\n",
    "            color='palevioletred',\n",
    "        ),\n",
    "        opacity=0.85,\n",
    "        width=0.1\n",
    "    )\n",
    "\n",
    "    trace1 = go.Bar(\n",
    "        y=[percentage_increased[1]],\n",
    "        x=[0.3],\n",
    "        name=str(index[1]),\n",
    "        text='Percent increase in property price',\n",
    "        marker=dict(\n",
    "            color='rosybrown',\n",
    "        ),\n",
    "        opacity=0.85,\n",
    "        width=0.1\n",
    "    )\n",
    "\n",
    "    trace2 = go.Bar(\n",
    "        y=[percentage_increased[2]],\n",
    "        x=[0.5],\n",
    "        name=str(index[2]),\n",
    "        text='Percent increase in property price',\n",
    "        marker=dict(\n",
    "            color='salmon',\n",
    "        ),\n",
    "        opacity=0.85,\n",
    "        width=0.1\n",
    "    )\n",
    "\n",
    "    trace3 = go.Bar(\n",
    "        y=[percentage_increased[3]],\n",
    "        x=[0.7],\n",
    "        name=str(index[3]),\n",
    "        text='Percent increase in property price',\n",
    "        marker=dict(\n",
    "            color='pink',\n",
    "        ),\n",
    "        opacity=0.85,\n",
    "        width=0.1\n",
    "    )\n",
    "\n",
    "    trace4 = go.Bar(\n",
    "        y=[percentage_increased[4]],\n",
    "        x=[0.9],\n",
    "        name=str(index[4]),\n",
    "        text='Percent increase in property price',\n",
    "        marker=dict(\n",
    "            color='lightskyblue',\n",
    "        ),\n",
    "        opacity=0.85,\n",
    "        width=0.1\n",
    "    )\n",
    "\n",
    "    trace5 = go.Bar(\n",
    "        y=[percentage_increased[5]],\n",
    "        x=[1.1],\n",
    "        name=str(index[5]),\n",
    "        text='Percent increase in property price',\n",
    "        marker=dict(\n",
    "            color='lightgreen',\n",
    "        ),\n",
    "        opacity=0.85,\n",
    "        width=0.1\n",
    "    )\n",
    "\n",
    "    trace6 = go.Bar(\n",
    "        y=[percentage_increased[6]],\n",
    "        x=[1.3],\n",
    "        name=str(index[6]),\n",
    "        text='Percent increase in property price',\n",
    "        marker=dict(\n",
    "            color='paleturquoise',\n",
    "        ),\n",
    "        opacity=1,\n",
    "        width=0.1\n",
    "    )\n",
    "\n",
    "    trace7 = go.Bar(\n",
    "        y=[percentage_increased[7]],\n",
    "        x=[1.5],\n",
    "        name=str(index[7]),\n",
    "        text='Percent increase in property price',\n",
    "        marker=dict(\n",
    "            color='lightseagreen',\n",
    "        ),\n",
    "        opacity=0.85,\n",
    "        width=0.1\n",
    "    )\n",
    "\n",
    "    trace8 = go.Bar(\n",
    "        y=[percentage_increased[8]],\n",
    "        x=[1.7],\n",
    "        name=str(index[8]),\n",
    "        text='Percent increase in property price',\n",
    "        marker=dict(\n",
    "            color='lavender',\n",
    "        ),\n",
    "        opacity=0.85,\n",
    "        width=0.1\n",
    "    )\n",
    "\n",
    "    # Create the layout for the plot\n",
    "    layout = dict(title = 'Percentage increase in Property price based on zone category',\n",
    "              xaxis=go.layout.XAxis(title='Zone Category',\n",
    "                        zeroline=True,\n",
    "                        showline=True,\n",
    "                        mirror=True,\n",
    "                        tick0=0,\n",
    "                        tickmode='array',\n",
    "                        ticktext=index,\n",
    "                        tickvals=[0.1,0.3,0.5,0.7,0.9,1.1,1.3,1.5,1.7],\n",
    "                        ticks='outside',\n",
    "                        zerolinecolor='#969696',\n",
    "                        zerolinewidth=2,\n",
    "                        linecolor='#636363',\n",
    "                        linewidth=6,\n",
    "                        range=[0, 2],\n",
    "                        tickangle=22,\n",
    "                        tickfont=dict(\n",
    "                            family='Old Standard TT, serif',\n",
    "                            size=11.5,\n",
    "                        ),\n",
    "                    ),\n",
    "              yaxis = dict(title = 'Percentage Increase (%)',\n",
    "                        zeroline=True,\n",
    "                        showline=True,\n",
    "                        mirror=True,\n",
    "                        gridcolor='#bdbdbd',\n",
    "                        gridwidth=1,\n",
    "                        zerolinecolor='#969696',\n",
    "                        zerolinewidth=2,\n",
    "                        linecolor='#636363',\n",
    "                        linewidth=6,\n",
    "                        range = [0, 100]\n",
    "                    ),\n",
    "              showlegend=True,\n",
    "              legend=dict(bgcolor='lightgray',\n",
    "                        bordercolor='gray',\n",
    "                        borderwidth=2\n",
    "                    )\n",
    "              )\n",
    "\n",
    "    # Combine the plot data with the layout designed for it, into a single figure\n",
    "    data = [trace0, trace1, trace2, trace3, trace4, trace5, trace6, trace7, trace8]\n",
    "    fig = dict(data=data, layout=layout)\n",
    "\n",
    "    # IPython notebook- show plot\n",
    "    iplot(fig, filename='bar-plot')\n",
    "\n",
    "def main():\n",
    "    index, percentage_increased = compute_perinc(df)\n",
    "    plot(index, percentage_increased)\n",
    "    \n",
    "# Call the methods\n",
    "main()"
   ]
  },
  {
   "cell_type": "markdown",
   "metadata": {},
   "source": [
    "Thirdly, please write the two most important findings.\n",
    "\n",
    "**Findings**\n",
    "1. Firstly, 'One Family Dwelling' has the least percentage increase for property value- at 42.86842%. Followed by 'Two Family Dwelling', which has 70.74% increase.\n",
    "2. Secondly, the zone category 'Historic Area' has seen the most percentage increase in property value for the given dataset. Closely followed by 'Industrial' zone category at 97.732 percentage."
   ]
  },
  {
   "cell_type": "markdown",
   "metadata": {},
   "source": [
    "## Part 2. Bootstrapping"
   ]
  },
  {
   "cell_type": "markdown",
   "metadata": {},
   "source": [
    "In Part 1, we run our analysis over the full dataset. In reality, however, you may not be that lucky. It is more often than not that you can only collect a sample of the data. Whenever you derive a conclusion from a sample (e.g., The Vancouver's housing price has increased by 10\\% since last year), you should ALWAYS ask yourself: <font color=\"blue\">\"CAN I TRUST IT?\"</font>. In other words, you want to know that if the same analysis was conducted on the full data, would the same conclusion be derived? In Part 2, you will learn how to use bootstrapping to answer this question. "
   ]
  },
  {
   "cell_type": "markdown",
   "metadata": {},
   "source": [
    "Please download the sample dataset [property_tax_report_2018_sample.zip](http://tiny.cc/cmpt733-datasets/property_tax_report_2018_sample.zip), and load it as a DataFrame. "
   ]
  },
  {
   "cell_type": "code",
   "execution_count": 10,
   "metadata": {},
   "outputs": [],
   "source": [
    "df_sample = pd.read_csv(\"property_tax_report_sample.csv\")\n",
    "\n",
    "df_sample['CURRENT_PRICE'] = df_sample.apply(lambda x: x['CURRENT_LAND_VALUE']+x['CURRENT_IMPROVEMENT_VALUE'], axis = 1)\n",
    "\n",
    "df_sample['PREVIOUS_PRICE'] = df_sample.apply(lambda x: x['PREVIOUS_LAND_VALUE']+x['PREVIOUS_IMPROVEMENT_VALUE'], axis = 1)\n",
    "\n",
    "df_sample = df_sample[df_sample['LEGAL_TYPE'] == 'STRATA']"
   ]
  },
  {
   "cell_type": "markdown",
   "metadata": {},
   "source": [
    "### Task 1. Analysis Result Without Bootstrapping"
   ]
  },
  {
   "cell_type": "markdown",
   "metadata": {},
   "source": [
    "Please compute the median of PREVIOUS_PRICE and CURRENT_PRICE, respectively, and compare them in a bar chart."
   ]
  },
  {
   "cell_type": "code",
   "execution_count": 11,
   "metadata": {},
   "outputs": [
    {
     "data": {
      "application/vnd.plotly.v1+json": {
       "config": {
        "linkText": "Export to plot.ly",
        "plotlyServerURL": "https://plot.ly",
        "showLink": false
       },
       "data": [
        {
         "marker": {
          "color": "coral"
         },
         "name": "Current Year",
         "opacity": 0.85,
         "text": "median",
         "type": "bar",
         "uid": "6886ccbc-2e65-4d0c-8cd5-789dfeed1796",
         "width": 0.2,
         "x": [
          0.75
         ],
         "y": [
          0.697
         ]
        },
        {
         "marker": {
          "color": "maroon"
         },
         "name": "Previous Year",
         "opacity": 0.85,
         "text": "median",
         "type": "bar",
         "uid": "3b9d739c-9401-456b-97af-50079e138b89",
         "width": 0.2,
         "x": [
          0.25
         ],
         "y": [
          0.603
         ]
        }
       ],
       "layout": {
        "legend": {
         "bgcolor": "lightgray",
         "bordercolor": "gray",
         "borderwidth": 2
        },
        "showlegend": true,
        "title": {
         "text": "Median of Current Price and Previous Price from Sample Data- without bootstrapping"
        },
        "xaxis": {
         "linecolor": "#636363",
         "linewidth": 6,
         "mirror": true,
         "range": [
          0,
          1
         ],
         "showline": true,
         "tick0": 0,
         "tickmode": "array",
         "ticks": "outside",
         "ticktext": [
          "Current Year Price",
          "Previous Year Price"
         ],
         "tickvals": [
          0.75,
          0.25
         ],
         "title": {
          "text": "Price Year"
         },
         "zeroline": true,
         "zerolinecolor": "#969696",
         "zerolinewidth": 2
        },
        "yaxis": {
         "gridcolor": "#bdbdbd",
         "gridwidth": 1,
         "linecolor": "#636363",
         "linewidth": 6,
         "mirror": true,
         "range": [
          0,
          1
         ],
         "showgrid": true,
         "showline": true,
         "title": {
          "text": "Median value (in million)"
         },
         "zeroline": true,
         "zerolinecolor": "#969696",
         "zerolinewidth": 2
        }
       }
      },
      "text/html": [
       "<div id=\"2d5d0ce8-fef2-44e3-8e3f-4917e16f9c57\" style=\"height: 525px; width: 100%;\" class=\"plotly-graph-div\"></div><script type=\"text/javascript\">require([\"plotly\"], function(Plotly) { window.PLOTLYENV=window.PLOTLYENV || {};window.PLOTLYENV.BASE_URL=\"https://plot.ly\";Plotly.newPlot(\"2d5d0ce8-fef2-44e3-8e3f-4917e16f9c57\", [{\"marker\": {\"color\": \"coral\"}, \"name\": \"Current Year\", \"opacity\": 0.85, \"text\": \"median\", \"width\": 0.2, \"x\": [0.75], \"y\": [0.697], \"type\": \"bar\", \"uid\": \"927fbd68-c9d5-4c27-a579-ed328efcf971\"}, {\"marker\": {\"color\": \"maroon\"}, \"name\": \"Previous Year\", \"opacity\": 0.85, \"text\": \"median\", \"width\": 0.2, \"x\": [0.25], \"y\": [0.603], \"type\": \"bar\", \"uid\": \"57cc7c61-a5d7-4f04-b383-4d2304a254b2\"}], {\"legend\": {\"bgcolor\": \"lightgray\", \"bordercolor\": \"gray\", \"borderwidth\": 2}, \"showlegend\": true, \"title\": {\"text\": \"Median of Current Price and Previous Price from Sample Data- without bootstrapping\"}, \"xaxis\": {\"linecolor\": \"#636363\", \"linewidth\": 6, \"mirror\": true, \"range\": [0, 1], \"showline\": true, \"tick0\": 0, \"tickmode\": \"array\", \"ticks\": \"outside\", \"ticktext\": [\"Current Year Price\", \"Previous Year Price\"], \"tickvals\": [0.75, 0.25], \"title\": {\"text\": \"Price Year\"}, \"zeroline\": true, \"zerolinecolor\": \"#969696\", \"zerolinewidth\": 2}, \"yaxis\": {\"gridcolor\": \"#bdbdbd\", \"gridwidth\": 1, \"linecolor\": \"#636363\", \"linewidth\": 6, \"mirror\": true, \"range\": [0, 1], \"showgrid\": true, \"showline\": true, \"title\": {\"text\": \"Median value (in million)\"}, \"zeroline\": true, \"zerolinecolor\": \"#969696\", \"zerolinewidth\": 2}}, {\"showLink\": false, \"linkText\": \"Export to plot.ly\", \"plotlyServerURL\": \"https://plot.ly\"})});</script><script type=\"text/javascript\">window.addEventListener(\"resize\", function(){window._Plotly.Plots.resize(document.getElementById(\"2d5d0ce8-fef2-44e3-8e3f-4917e16f9c57\"));});</script>"
      ],
      "text/vnd.plotly.v1+html": [
       "<div id=\"2d5d0ce8-fef2-44e3-8e3f-4917e16f9c57\" style=\"height: 525px; width: 100%;\" class=\"plotly-graph-div\"></div><script type=\"text/javascript\">require([\"plotly\"], function(Plotly) { window.PLOTLYENV=window.PLOTLYENV || {};window.PLOTLYENV.BASE_URL=\"https://plot.ly\";Plotly.newPlot(\"2d5d0ce8-fef2-44e3-8e3f-4917e16f9c57\", [{\"marker\": {\"color\": \"coral\"}, \"name\": \"Current Year\", \"opacity\": 0.85, \"text\": \"median\", \"width\": 0.2, \"x\": [0.75], \"y\": [0.697], \"type\": \"bar\", \"uid\": \"927fbd68-c9d5-4c27-a579-ed328efcf971\"}, {\"marker\": {\"color\": \"maroon\"}, \"name\": \"Previous Year\", \"opacity\": 0.85, \"text\": \"median\", \"width\": 0.2, \"x\": [0.25], \"y\": [0.603], \"type\": \"bar\", \"uid\": \"57cc7c61-a5d7-4f04-b383-4d2304a254b2\"}], {\"legend\": {\"bgcolor\": \"lightgray\", \"bordercolor\": \"gray\", \"borderwidth\": 2}, \"showlegend\": true, \"title\": {\"text\": \"Median of Current Price and Previous Price from Sample Data- without bootstrapping\"}, \"xaxis\": {\"linecolor\": \"#636363\", \"linewidth\": 6, \"mirror\": true, \"range\": [0, 1], \"showline\": true, \"tick0\": 0, \"tickmode\": \"array\", \"ticks\": \"outside\", \"ticktext\": [\"Current Year Price\", \"Previous Year Price\"], \"tickvals\": [0.75, 0.25], \"title\": {\"text\": \"Price Year\"}, \"zeroline\": true, \"zerolinecolor\": \"#969696\", \"zerolinewidth\": 2}, \"yaxis\": {\"gridcolor\": \"#bdbdbd\", \"gridwidth\": 1, \"linecolor\": \"#636363\", \"linewidth\": 6, \"mirror\": true, \"range\": [0, 1], \"showgrid\": true, \"showline\": true, \"title\": {\"text\": \"Median value (in million)\"}, \"zeroline\": true, \"zerolinecolor\": \"#969696\", \"zerolinewidth\": 2}}, {\"showLink\": false, \"linkText\": \"Export to plot.ly\", \"plotlyServerURL\": \"https://plot.ly\"})});</script><script type=\"text/javascript\">window.addEventListener(\"resize\", function(){window._Plotly.Plots.resize(document.getElementById(\"2d5d0ce8-fef2-44e3-8e3f-4917e16f9c57\"));});</script>"
      ]
     },
     "metadata": {},
     "output_type": "display_data"
    }
   ],
   "source": [
    "# --- Write your code below ---\n",
    "from plotly import tools\n",
    "import plotly.plotly as py\n",
    "import plotly.graph_objs as go\n",
    "from plotly.tools import FigureFactory as FF\n",
    "from plotly.offline import download_plotlyjs, init_notebook_mode, plot, iplot\n",
    "\n",
    "def compute_median():\n",
    "    # Compute median directly on whole sample data without bootstrapping\n",
    "    median_cp = df_sample.CURRENT_PRICE.median(skipna=True)/1000000 #(to get in million)\n",
    "    median_pp = df_sample.PREVIOUS_PRICE.median(skipna=True)/1000000 #(to get in million)\n",
    "    return median_cp, median_pp\n",
    "\n",
    "def plot(median_cp, median_pp):\n",
    "    # Create plot data\n",
    "    trace0 = go.Bar(\n",
    "            y=[median_cp],\n",
    "            x=[0.75],\n",
    "            name='Current Year',\n",
    "            text='median',\n",
    "            marker=dict(\n",
    "                color='coral',\n",
    "            ),\n",
    "            opacity=0.85,\n",
    "            width=0.2\n",
    "        )\n",
    "\n",
    "    trace1 = go.Bar(\n",
    "            y=[median_pp],\n",
    "            x=[0.25],\n",
    "            text='median',\n",
    "            name='Previous Year',\n",
    "            marker=dict(\n",
    "                color='maroon',\n",
    "            ),\n",
    "            opacity=0.85,\n",
    "            width=0.2\n",
    "        )\n",
    "\n",
    "    # Create the layout for the plot\n",
    "    layout = dict(title = 'Median of Current Price and Previous Price from Sample Data- without bootstrapping',\n",
    "                xaxis=go.layout.XAxis(title='Price Year',\n",
    "                        zeroline=True,\n",
    "                        showline=True,\n",
    "                        mirror=True,\n",
    "                        tick0=0,\n",
    "                        tickmode='array',\n",
    "                        ticktext=['Current Year Price', 'Previous Year Price'],\n",
    "                        tickvals=[0.75,0.25],\n",
    "                        ticks='outside',\n",
    "                        zerolinecolor='#969696',\n",
    "                        zerolinewidth=2,\n",
    "                        linecolor='#636363',\n",
    "                        linewidth=6,\n",
    "                        range=[0, 1]\n",
    "                    ),\n",
    "                  yaxis = dict(title = 'Median value (in million)',\n",
    "                        showgrid=True,\n",
    "                        zeroline=True,\n",
    "                        showline=True,\n",
    "                        mirror=True,\n",
    "                        gridcolor='#bdbdbd',\n",
    "                        gridwidth=1,\n",
    "                        zerolinecolor='#969696',\n",
    "                        zerolinewidth=2,\n",
    "                        linecolor='#636363',\n",
    "                        linewidth=6,\n",
    "                        range = [0, 1]\n",
    "                    ),\n",
    "                  showlegend=True,\n",
    "                  legend=dict(bgcolor='lightgray',\n",
    "                        bordercolor='gray',\n",
    "                        borderwidth=2\n",
    "                    )\n",
    "                )\n",
    "\n",
    "    # Combine the plot data with the layout designed for it, into a single figure\n",
    "    data = [trace0, trace1]\n",
    "    fig = dict(data=data, layout=layout)\n",
    "\n",
    "    # IPython notebook- show plot\n",
    "    iplot(fig, filename='bar-plot')\n",
    "\n",
    "def without_bootstrapping():\n",
    "    median_cp, median_pp = compute_median()\n",
    "    plot(median_cp, median_pp)\n",
    "\n",
    "# Perform median statistics without bootstraping\n",
    "without_bootstrapping()"
   ]
  },
  {
   "cell_type": "markdown",
   "metadata": {},
   "source": [
    "### Task 2. Analysis Result With Bootstrapping"
   ]
  },
  {
   "cell_type": "markdown",
   "metadata": {},
   "source": [
    "From the above chart, we find that the median of PREVIOUS_PRICE is about 0.6 M, and the median of CURRENT_PRICE is about 0.7 M. Since the numbers were obtained from the sample, <font color=\"blue\">\"CAN WE TRUST THESE NUMBERS?\"</font> \n",
    "\n",
    "In the following, please implement the bootstrap by yourself, and compute a 95%-confidence interval for each number. [This document](./MIT18_05S14_Reading24.pdf) gives a good tutorial about the bootstrap. You can find the description of the algorithm in Section 7."
   ]
  },
  {
   "cell_type": "code",
   "execution_count": 12,
   "metadata": {
    "scrolled": true
   },
   "outputs": [
    {
     "name": "stdout",
     "output_type": "stream",
     "text": [
      "0.697 0.603\n",
      "Current Price: 95.0% confidence interval 67.8% and 72.3%\n",
      "Current Price: 95.0% confidence interval 58.4% and 62.1%\n"
     ]
    },
    {
     "data": {
      "application/vnd.plotly.v1+json": {
       "config": {
        "linkText": "Export to plot.ly",
        "plotlyServerURL": "https://plot.ly",
        "showLink": false
       },
       "data": [
        {
         "marker": {
          "color": "coral"
         },
         "name": "Current Year",
         "opacity": 0.85,
         "text": "median",
         "type": "bar",
         "uid": "1b17bd1d-6586-4d24-9394-b46b4c9f8e33",
         "width": 0.2,
         "x": [
          0.75
         ],
         "y": [
          0.697
         ]
        },
        {
         "marker": {
          "color": "maroon"
         },
         "name": "Previous Year",
         "opacity": 0.85,
         "text": "median",
         "type": "bar",
         "uid": "703d86a1-9224-4821-831b-f7e4c2e7ef86",
         "width": 0.2,
         "x": [
          0.25
         ],
         "y": [
          0.603
         ]
        }
       ],
       "layout": {
        "legend": {
         "bgcolor": "lightgray",
         "bordercolor": "gray",
         "borderwidth": 2
        },
        "showlegend": true,
        "title": {
         "text": "Median of Current Price and Previous Price from Sample Data- with bootstrapping"
        },
        "xaxis": {
         "linecolor": "#636363",
         "linewidth": 6,
         "mirror": true,
         "range": [
          0,
          1
         ],
         "showline": true,
         "tick0": 0,
         "tickmode": "array",
         "ticks": "outside",
         "ticktext": [
          "Current Year Price",
          "Previous Year Price"
         ],
         "tickvals": [
          0.75,
          0.25
         ],
         "title": {
          "text": "Price Year"
         },
         "zeroline": true,
         "zerolinecolor": "#969696",
         "zerolinewidth": 2
        },
        "yaxis": {
         "gridcolor": "#bdbdbd",
         "gridwidth": 1,
         "linecolor": "#636363",
         "linewidth": 6,
         "mirror": true,
         "range": [
          0,
          1
         ],
         "showgrid": true,
         "showline": true,
         "title": {
          "text": "Median value (in million)"
         },
         "zeroline": true,
         "zerolinecolor": "#969696",
         "zerolinewidth": 2
        }
       }
      },
      "text/html": [
       "<div id=\"a3dcf509-a6a4-4ca1-bd59-c9485f593e4b\" style=\"height: 525px; width: 100%;\" class=\"plotly-graph-div\"></div><script type=\"text/javascript\">require([\"plotly\"], function(Plotly) { window.PLOTLYENV=window.PLOTLYENV || {};window.PLOTLYENV.BASE_URL=\"https://plot.ly\";Plotly.newPlot(\"a3dcf509-a6a4-4ca1-bd59-c9485f593e4b\", [{\"marker\": {\"color\": \"coral\"}, \"name\": \"Current Year\", \"opacity\": 0.85, \"text\": \"median\", \"width\": 0.2, \"x\": [0.75], \"y\": [0.697], \"type\": \"bar\", \"uid\": \"2c030e54-c667-404a-b67f-d94542ba8c9c\"}, {\"marker\": {\"color\": \"maroon\"}, \"name\": \"Previous Year\", \"opacity\": 0.85, \"text\": \"median\", \"width\": 0.2, \"x\": [0.25], \"y\": [0.603], \"type\": \"bar\", \"uid\": \"8cbde1b6-c5cb-481f-8ad3-871ae696b7b7\"}], {\"legend\": {\"bgcolor\": \"lightgray\", \"bordercolor\": \"gray\", \"borderwidth\": 2}, \"showlegend\": true, \"title\": {\"text\": \"Median of Current Price and Previous Price from Sample Data- with bootstrapping\"}, \"xaxis\": {\"linecolor\": \"#636363\", \"linewidth\": 6, \"mirror\": true, \"range\": [0, 1], \"showline\": true, \"tick0\": 0, \"tickmode\": \"array\", \"ticks\": \"outside\", \"ticktext\": [\"Current Year Price\", \"Previous Year Price\"], \"tickvals\": [0.75, 0.25], \"title\": {\"text\": \"Price Year\"}, \"zeroline\": true, \"zerolinecolor\": \"#969696\", \"zerolinewidth\": 2}, \"yaxis\": {\"gridcolor\": \"#bdbdbd\", \"gridwidth\": 1, \"linecolor\": \"#636363\", \"linewidth\": 6, \"mirror\": true, \"range\": [0, 1], \"showgrid\": true, \"showline\": true, \"title\": {\"text\": \"Median value (in million)\"}, \"zeroline\": true, \"zerolinecolor\": \"#969696\", \"zerolinewidth\": 2}}, {\"showLink\": false, \"linkText\": \"Export to plot.ly\", \"plotlyServerURL\": \"https://plot.ly\"})});</script><script type=\"text/javascript\">window.addEventListener(\"resize\", function(){window._Plotly.Plots.resize(document.getElementById(\"a3dcf509-a6a4-4ca1-bd59-c9485f593e4b\"));});</script>"
      ],
      "text/vnd.plotly.v1+html": [
       "<div id=\"a3dcf509-a6a4-4ca1-bd59-c9485f593e4b\" style=\"height: 525px; width: 100%;\" class=\"plotly-graph-div\"></div><script type=\"text/javascript\">require([\"plotly\"], function(Plotly) { window.PLOTLYENV=window.PLOTLYENV || {};window.PLOTLYENV.BASE_URL=\"https://plot.ly\";Plotly.newPlot(\"a3dcf509-a6a4-4ca1-bd59-c9485f593e4b\", [{\"marker\": {\"color\": \"coral\"}, \"name\": \"Current Year\", \"opacity\": 0.85, \"text\": \"median\", \"width\": 0.2, \"x\": [0.75], \"y\": [0.697], \"type\": \"bar\", \"uid\": \"2c030e54-c667-404a-b67f-d94542ba8c9c\"}, {\"marker\": {\"color\": \"maroon\"}, \"name\": \"Previous Year\", \"opacity\": 0.85, \"text\": \"median\", \"width\": 0.2, \"x\": [0.25], \"y\": [0.603], \"type\": \"bar\", \"uid\": \"8cbde1b6-c5cb-481f-8ad3-871ae696b7b7\"}], {\"legend\": {\"bgcolor\": \"lightgray\", \"bordercolor\": \"gray\", \"borderwidth\": 2}, \"showlegend\": true, \"title\": {\"text\": \"Median of Current Price and Previous Price from Sample Data- with bootstrapping\"}, \"xaxis\": {\"linecolor\": \"#636363\", \"linewidth\": 6, \"mirror\": true, \"range\": [0, 1], \"showline\": true, \"tick0\": 0, \"tickmode\": \"array\", \"ticks\": \"outside\", \"ticktext\": [\"Current Year Price\", \"Previous Year Price\"], \"tickvals\": [0.75, 0.25], \"title\": {\"text\": \"Price Year\"}, \"zeroline\": true, \"zerolinecolor\": \"#969696\", \"zerolinewidth\": 2}, \"yaxis\": {\"gridcolor\": \"#bdbdbd\", \"gridwidth\": 1, \"linecolor\": \"#636363\", \"linewidth\": 6, \"mirror\": true, \"range\": [0, 1], \"showgrid\": true, \"showline\": true, \"title\": {\"text\": \"Median value (in million)\"}, \"zeroline\": true, \"zerolinecolor\": \"#969696\", \"zerolinewidth\": 2}}, {\"showLink\": false, \"linkText\": \"Export to plot.ly\", \"plotlyServerURL\": \"https://plot.ly\"})});</script><script type=\"text/javascript\">window.addEventListener(\"resize\", function(){window._Plotly.Plots.resize(document.getElementById(\"a3dcf509-a6a4-4ca1-bd59-c9485f593e4b\"));});</script>"
      ]
     },
     "metadata": {},
     "output_type": "display_data"
    }
   ],
   "source": [
    "# --- Write your code below ---\n",
    "import numpy as np\n",
    "from plotly import tools\n",
    "import plotly.plotly as py\n",
    "import plotly.graph_objs as go\n",
    "from plotly.tools import FigureFactory as FF\n",
    "from plotly.offline import download_plotlyjs, init_notebook_mode, plot, iplot\n",
    "\n",
    "def bootstrap_sample(sample_length_cp, sample_length_pp, df_cp, df_pp, num_samples=10000):\n",
    "    median_cp = []\n",
    "    median_pp = []\n",
    "\n",
    "    for i in range(num_samples):\n",
    "        sample_cp = np.random.choice(df_cp, sample_length_cp)\n",
    "        sample_pp = np.random.choice(df_pp, sample_length_pp)\n",
    "        median_pp.append((np.median(sample_pp))/1000000)\n",
    "        median_cp.append((np.median(sample_cp))/1000000)\n",
    "\n",
    "    return(median_cp, median_pp)\n",
    "\n",
    "def Confidence_interval(median):\n",
    "    # confidence intervals\n",
    "    alpha = 0.95\n",
    "    percentile = ((1.0-alpha)/2.0) * 100\n",
    "    below = max(0.0, np.percentile (median, percentile))\n",
    "    percentile = (alpha+((1.0-alpha)/2.0)) * 100\n",
    "    above = min(1.0, np.percentile(median, percentile))\n",
    "    print('Current Price: %.1f%% confidence interval %.1f%% and %.1f%%' % (alpha*100, below*100, above*100))\n",
    "    \n",
    "def plot(median_sampled_cp, median_sampled_pp):\n",
    "    # Plot bar chart to show the bootstrapped median value\n",
    "    trace0 = go.Bar(\n",
    "            y=[median_sampled_cp],\n",
    "            x=[0.75],\n",
    "            name='Current Year',\n",
    "            text='median',\n",
    "            marker=dict(\n",
    "                color='coral',\n",
    "            ),\n",
    "            opacity=0.85,\n",
    "            width=0.2\n",
    "        )\n",
    "\n",
    "    trace1 = go.Bar(\n",
    "            y=[median_sampled_pp],\n",
    "            x=[0.25],\n",
    "            text='median',\n",
    "            name='Previous Year',\n",
    "            marker=dict(\n",
    "                color='maroon',\n",
    "            ),\n",
    "            opacity=0.85,\n",
    "            width=0.2\n",
    "        )\n",
    "\n",
    "    # Edit the layout\n",
    "    layout = dict(title = 'Median of Current Price and Previous Price from Sample Data- with bootstrapping',\n",
    "                  xaxis=go.layout.XAxis(title='Price Year',\n",
    "                            zeroline=True,\n",
    "                            showline=True,\n",
    "                            mirror=True,\n",
    "                            tick0=0,\n",
    "                            tickmode='array',\n",
    "                            ticktext=['Current Year Price', 'Previous Year Price'],\n",
    "                            tickvals=[0.75,0.25],\n",
    "                            ticks='outside',\n",
    "                            zerolinecolor='#969696',\n",
    "                            zerolinewidth=2,\n",
    "                            linecolor='#636363',\n",
    "                            linewidth=6,\n",
    "                            range=[0, 1]\n",
    "                        ),\n",
    "                  yaxis = dict(title = 'Median value (in million)',\n",
    "                            showgrid=True,\n",
    "                            zeroline=True,\n",
    "                            showline=True,\n",
    "                            mirror=True,\n",
    "                            gridcolor='#bdbdbd',\n",
    "                            gridwidth=1,\n",
    "                            zerolinecolor='#969696',\n",
    "                            zerolinewidth=2,\n",
    "                            linecolor='#636363',\n",
    "                            linewidth=6,\n",
    "                            range = [0, 1]\n",
    "                        ),\n",
    "                  showlegend=True,\n",
    "                  legend=dict(bgcolor='lightgray',\n",
    "                        bordercolor='gray',\n",
    "                        borderwidth=2\n",
    "                    )\n",
    "                )\n",
    "\n",
    "    data = [trace0, trace1]\n",
    "\n",
    "    fig = dict(data=data, layout=layout)\n",
    "\n",
    "    # IPython notebook\n",
    "    iplot(fig, filename='bar-plot')\n",
    "\n",
    "def bootstrap():\n",
    "    sample_length_cp = len(df_sample.CURRENT_PRICE.dropna())\n",
    "    sample_length_pp = len(df_sample.PREVIOUS_PRICE.dropna())\n",
    "    num_samples=10000\n",
    "    # print(sample_length_pp)\n",
    "    # print(sample_length_cp)\n",
    "    \n",
    "    median_cp, median_pp = bootstrap_sample(sample_length_cp, sample_length_pp, df_sample.CURRENT_PRICE.dropna(), df_sample.PREVIOUS_PRICE.dropna(), num_samples)\n",
    "    median_sampled_cp = round(np.median(median_cp),3)\n",
    "    median_sampled_pp = round(np.median(median_pp),3)\n",
    "    print(median_sampled_cp, median_sampled_pp)\n",
    "    \n",
    "    Confidence_interval(median_cp)\n",
    "    Confidence_interval(median_pp)\n",
    "    \n",
    "    plot(median_sampled_cp, median_sampled_pp)\n",
    "\n",
    "\n",
    "# Perform bootstrapping\n",
    "bootstrap()\n",
    "    "
   ]
  },
  {
   "cell_type": "markdown",
   "metadata": {},
   "source": [
    "## Submission"
   ]
  },
  {
   "cell_type": "markdown",
   "metadata": {},
   "source": [
    "Complete the code in this [notebook](https://github.com/sfu-db/bigdata-cmpt733/blob/master/Assignments/A4/A4.ipynb), and submit it to the CourSys activity Assignment 4."
   ]
  }
 ],
 "metadata": {
  "kernelspec": {
   "display_name": "Python 3",
   "language": "python",
   "name": "python3"
  },
  "language_info": {
   "codemirror_mode": {
    "name": "ipython",
    "version": 3
   },
   "file_extension": ".py",
   "mimetype": "text/x-python",
   "name": "python",
   "nbconvert_exporter": "python",
   "pygments_lexer": "ipython3",
   "version": "3.7.2"
  }
 },
 "nbformat": 4,
 "nbformat_minor": 2
}
